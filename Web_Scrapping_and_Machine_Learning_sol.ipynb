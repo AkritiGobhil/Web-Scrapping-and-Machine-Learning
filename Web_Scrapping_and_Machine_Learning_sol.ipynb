{
  "nbformat": 4,
  "nbformat_minor": 0,
  "metadata": {
    "colab": {
      "name": "Web Scrapping and Machine Learning_sol.ipynb",
      "provenance": [],
      "collapsed_sections": [
        "Nm5FSlSH41TB",
        "Lo69GRSa96i_",
        "BFzomojy-AHi"
      ]
    },
    "kernelspec": {
      "name": "python3",
      "display_name": "Python 3"
    },
    "language_info": {
      "name": "python"
    },
    "accelerator": "GPU",
    "gpuClass": "standard"
  },
  "cells": [
    {
      "cell_type": "markdown",
      "source": [
        "##Problem 1"
      ],
      "metadata": {
        "id": "MAbWyeMoBRqw"
      }
    },
    {
      "cell_type": "markdown",
      "source": [
        "Write a web scraping script which takes an input of any film actor and gives the output of filmography of that actor in descending order."
      ],
      "metadata": {
        "id": "cAjU1GPZX7G5"
      }
    },
    {
      "cell_type": "code",
      "execution_count": null,
      "metadata": {
        "id": "XHsVLYu9SpNI"
      },
      "outputs": [],
      "source": [
        "#importing all the dependencies.\n",
        "from bs4 import BeautifulSoup\n",
        "import requests\n",
        "import re\n",
        "import pandas as pd"
      ]
    },
    {
      "cell_type": "code",
      "source": [
        "url = 'http://www.imdb.com/chart/top'\n",
        "response = requests.get(url)\n",
        "soup = BeautifulSoup(response.text, \"html.parser\")"
      ],
      "metadata": {
        "id": "m9UGWNOmTOk3"
      },
      "execution_count": null,
      "outputs": []
    },
    {
      "cell_type": "code",
      "source": [
        "movies = soup.select('td.titleColumn')\n",
        "crew = [a.attrs.get('title') for a in soup.select('td.titleColumn a')]\n",
        "ratings = [b.attrs.get('data-value')\n",
        "        for b in soup.select('td.posterColumn span[name=ir]')]"
      ],
      "metadata": {
        "id": "Zey42maATbAR"
      },
      "execution_count": null,
      "outputs": []
    },
    {
      "cell_type": "code",
      "source": [
        "# create a empty list for storing\n",
        "# movie information\n",
        "list1 = []\n",
        "\n",
        "# Iterating over movies to extract\n",
        "# each movie's details\n",
        "for index in range(0, len(movies)):\n",
        "\t\n",
        "\t# Separating movie into: 'location',\n",
        "\t# 'title', 'year'\n",
        "\tmovie_string = movies[index].get_text()\n",
        "\tmovie = (' '.join(movie_string.split()).replace('.', ''))\n",
        "\tmovie_title = movie[len(str(index))+1:-7]\n",
        "\tyear = re.search('\\((.*?)\\)', movie_string).group(1)\n",
        "\tLocation = movie[:len(str(index))-(len(movie))]\n",
        "\tdata = {\"Location\": Location,\n",
        "\t\t\t\"Movie_title\": movie_title,\n",
        "\t\t\t\"rating\": ratings[index],\n",
        "\t\t\t\"Year\": year,\n",
        "\t\t\t\"Star_cast\": crew[index],\n",
        "\t\t\t}\n",
        "\tlist1.append(data)\n"
      ],
      "metadata": {
        "id": "HrCsBh5xTkw1"
      },
      "execution_count": null,
      "outputs": []
    },
    {
      "cell_type": "code",
      "source": [
        "for movie in list1:\n",
        "    print(movie['Location'], '-', movie['Movie_title'], '('+movie['Year'] +\n",
        "          ') -', 'Starring:', movie['Star_cast'], movie['rating'])"
      ],
      "metadata": {
        "colab": {
          "base_uri": "https://localhost:8080/"
        },
        "id": "bFRpZ5NvTpt8",
        "outputId": "9dde00ea-0c78-4f9d-8975-9258cbb209f8"
      },
      "execution_count": null,
      "outputs": [
        {
          "output_type": "stream",
          "name": "stdout",
          "text": [
            "1 - The Shawshank Redemption (1994) - Starring: Frank Darabont (dir.), Tim Robbins, Morgan Freeman 9.233954495698477\n",
            "2 - The Godfather (1972) - Starring: Francis Ford Coppola (dir.), Marlon Brando, Al Pacino 9.1560474473662\n",
            "3 - The Dark Knight (2008) - Starring: Christopher Nolan (dir.), Christian Bale, Heath Ledger 8.985754553547302\n",
            "4 - The Godfather Part II (1974) - Starring: Francis Ford Coppola (dir.), Al Pacino, Robert De Niro 8.984208074470846\n",
            "5 - 12 Angry Men (1957) - Starring: Sidney Lumet (dir.), Henry Fonda, Lee J. Cobb 8.947842593083273\n",
            "6 - Schindler's List (1993) - Starring: Steven Spielberg (dir.), Liam Neeson, Ralph Fiennes 8.935321404277829\n",
            "7 - The Lord of the Rings: The Return of the King (2003) - Starring: Peter Jackson (dir.), Elijah Wood, Viggo Mortensen 8.921398500436839\n",
            "8 - Pulp Fiction (1994) - Starring: Quentin Tarantino (dir.), John Travolta, Uma Thurman 8.850621769842494\n",
            "9 - The Lord of the Rings: The Fellowship of the Ring (2001) - Starring: Peter Jackson (dir.), Elijah Wood, Ian McKellen 8.80379306176675\n",
            "1 -  The Good, the Bad and the Ugly (1966) - Starring: Sergio Leone (dir.), Clint Eastwood, Eli Wallach 8.793515091780685\n",
            "11 - Forrest Gump (1994) - Starring: Robert Zemeckis (dir.), Tom Hanks, Robin Wright 8.767380665802\n",
            "12 - Fight Club (1999) - Starring: David Fincher (dir.), Brad Pitt, Edward Norton 8.7498306029346\n",
            "13 - Inception (2010) - Starring: Christopher Nolan (dir.), Leonardo DiCaprio, Joseph Gordon-Levitt 8.732946893137395\n",
            "14 - The Lord of the Rings: The Two Towers (2002) - Starring: Peter Jackson (dir.), Elijah Wood, Ian McKellen 8.728063698949654\n",
            "15 - Star Wars: Episode V - The Empire Strikes Back (1980) - Starring: Irvin Kershner (dir.), Mark Hamill, Harrison Ford 8.701737072552515\n",
            "16 - The Matrix (1999) - Starring: Lana Wachowski (dir.), Keanu Reeves, Laurence Fishburne 8.670924739206725\n",
            "17 - Goodfellas (1990) - Starring: Martin Scorsese (dir.), Robert De Niro, Ray Liotta 8.651712034483467\n",
            "18 - One Flew Over the Cuckoo's Nest (1975) - Starring: Milos Forman (dir.), Jack Nicholson, Louise Fletcher 8.641048114184272\n",
            "19 - Se7en (1995) - Starring: David Fincher (dir.), Morgan Freeman, Brad Pitt 8.604108972110513\n",
            "20 - Seven Samurai (1954) - Starring: Akira Kurosawa (dir.), Toshirô Mifune, Takashi Shimura 8.59883751906091\n",
            "21 - It's a Wonderful Life (1946) - Starring: Frank Capra (dir.), James Stewart, Donna Reed 8.596805248313503\n",
            "22 - The Silence of the Lambs (1991) - Starring: Jonathan Demme (dir.), Jodie Foster, Anthony Hopkins 8.588054296447721\n",
            "23 - City of God (2002) - Starring: Fernando Meirelles (dir.), Alexandre Rodrigues, Leandro Firmino 8.578860839900091\n",
            "24 - Saving Private Ryan (1998) - Starring: Steven Spielberg (dir.), Tom Hanks, Matt Damon 8.577816449180851\n",
            "25 - Life Is Beautiful (1997) - Starring: Roberto Benigni (dir.), Roberto Benigni, Nicoletta Braschi 8.566054408298957\n",
            "26 - The Green Mile (1999) - Starring: Frank Darabont (dir.), Tom Hanks, Michael Clarke Duncan 8.559875521948873\n",
            "27 - Interstellar (2014) - Starring: Christopher Nolan (dir.), Matthew McConaughey, Anne Hathaway 8.5560306508558\n",
            "28 - Star Wars (1977) - Starring: George Lucas (dir.), Mark Hamill, Harrison Ford 8.55406603588919\n",
            "29 - Terminator 2: Judgment Day (1991) - Starring: James Cameron (dir.), Arnold Schwarzenegger, Linda Hamilton 8.535171765665337\n",
            "30 - Back to the Future (1985) - Starring: Robert Zemeckis (dir.), Michael J. Fox, Christopher Lloyd 8.518162821907717\n",
            "31 - Spirited Away (2001) - Starring: Hayao Miyazaki (dir.), Daveigh Chase, Suzanne Pleshette 8.515294850251715\n",
            "32 - Psycho (1960) - Starring: Alfred Hitchcock (dir.), Anthony Perkins, Janet Leigh 8.508601958957001\n",
            "33 - The Pianist (2002) - Starring: Roman Polanski (dir.), Adrien Brody, Thomas Kretschmann 8.504590273512019\n",
            "34 - Léon: The Professional (1994) - Starring: Luc Besson (dir.), Jean Reno, Gary Oldman 8.50038036649418\n",
            "35 - Parasite (2019) - Starring: Bong Joon Ho (dir.), Song Kang-ho, Sun-kyun Lee 8.4957506203769\n",
            "36 - The Lion King (1994) - Starring: Roger Allers (dir.), Matthew Broderick, Jeremy Irons 8.488438976712692\n",
            "37 - Gladiator (2000) - Starring: Ridley Scott (dir.), Russell Crowe, Joaquin Phoenix 8.48542615166886\n",
            "38 - American History X (1998) - Starring: Tony Kaye (dir.), Edward Norton, Edward Furlong 8.484359888345727\n",
            "39 - The Usual Suspects (1995) - Starring: Bryan Singer (dir.), Kevin Spacey, Gabriel Byrne 8.476144515819652\n",
            "40 - The Departed (2006) - Starring: Martin Scorsese (dir.), Leonardo DiCaprio, Matt Damon 8.475095342627219\n",
            "41 - The Prestige (2006) - Starring: Christopher Nolan (dir.), Christian Bale, Hugh Jackman 8.467994859755528\n",
            "42 - Casablanca (1942) - Starring: Michael Curtiz (dir.), Humphrey Bogart, Ingrid Bergman 8.465442859884066\n",
            "43 - Top Gun: Maverick (2022) - Starring: Joseph Kosinski (dir.), Tom Cruise, Jennifer Connelly 8.461112862096526\n",
            "44 - Whiplash (2014) - Starring: Damien Chazelle (dir.), Miles Teller, J.K. Simmons 8.460571331780976\n",
            "45 - The Intouchables (2011) - Starring: Olivier Nakache (dir.), François Cluzet, Omar Sy 8.453674854110183\n",
            "46 - Modern Times (1936) - Starring: Charles Chaplin (dir.), Charles Chaplin, Paulette Goddard 8.449600030899493\n",
            "47 - Hara-Kiri (1962) - Starring: Masaki Kobayashi (dir.), Tatsuya Nakadai, Akira Ishihama 8.448650524768519\n",
            "48 - Grave of the Fireflies (1988) - Starring: Isao Takahata (dir.), Tsutomu Tatsumi, Ayano Shiraishi 8.44772682388608\n",
            "49 - Once Upon a Time in the West (1968) - Starring: Sergio Leone (dir.), Henry Fonda, Charles Bronson 8.447560132818197\n",
            "50 - Rear Window (1954) - Starring: Alfred Hitchcock (dir.), James Stewart, Grace Kelly 8.437174410987582\n",
            "51 - Alien (1979) - Starring: Ridley Scott (dir.), Sigourney Weaver, Tom Skerritt 8.43519927930559\n",
            "52 - City Lights (1931) - Starring: Charles Chaplin (dir.), Charles Chaplin, Virginia Cherrill 8.433991563339228\n",
            "53 - Cinema Paradiso (1988) - Starring: Giuseppe Tornatore (dir.), Philippe Noiret, Enzo Cannavale 8.429326913337341\n",
            "54 - Memento (2000) - Starring: Christopher Nolan (dir.), Guy Pearce, Carrie-Anne Moss 8.425792977458876\n",
            "55 - Apocalypse Now (1979) - Starring: Francis Ford Coppola (dir.), Martin Sheen, Marlon Brando 8.425132418124763\n",
            "56 - Indiana Jones and the Raiders of the Lost Ark (1981) - Starring: Steven Spielberg (dir.), Harrison Ford, Karen Allen 8.41162494921976\n",
            "57 - Django Unchained (2012) - Starring: Quentin Tarantino (dir.), Jamie Foxx, Christoph Waltz 8.402866591789069\n",
            "58 - WALL·E (2008) - Starring: Andrew Stanton (dir.), Ben Burtt, Elissa Knight 8.392719934509124\n",
            "59 - The Lives of Others (2006) - Starring: Florian Henckel von Donnersmarck (dir.), Ulrich Mühe, Martina Gedeck 8.3862209618711\n",
            "60 - Sunset Blvd (1950) - Starring: Billy Wilder (dir.), William Holden, Gloria Swanson 8.382519327276603\n",
            "61 - Paths of Glory (1957) - Starring: Stanley Kubrick (dir.), Kirk Douglas, Ralph Meeker 8.370859733870905\n",
            "62 - The Shining (1980) - Starring: Stanley Kubrick (dir.), Jack Nicholson, Shelley Duvall 8.367846280080405\n",
            "63 - The Great Dictator (1940) - Starring: Charles Chaplin (dir.), Charles Chaplin, Paulette Goddard 8.366178079749455\n",
            "64 - Witness for the Prosecution (1957) - Starring: Billy Wilder (dir.), Tyrone Power, Marlene Dietrich 8.356995722138231\n",
            "65 - Avengers: Infinity War (2018) - Starring: Anthony Russo (dir.), Robert Downey Jr., Chris Hemsworth 8.35604855617745\n",
            "66 - Aliens (1986) - Starring: James Cameron (dir.), Sigourney Weaver, Michael Biehn 8.34467593256068\n",
            "67 - American Beauty (1999) - Starring: Sam Mendes (dir.), Kevin Spacey, Annette Bening 8.337637917121112\n",
            "68 - Dr Strangelove or: How I Learned to Stop Worrying and Love the Bomb (1964) - Starring: Stanley Kubrick (dir.), Peter Sellers, George C. Scott 8.333382731087772\n",
            "69 - Spider-Man: Into the Spider-Verse (2018) - Starring: Bob Persichetti (dir.), Shameik Moore, Jake Johnson 8.328913492185988\n",
            "70 - The Dark Knight Rises (2012) - Starring: Christopher Nolan (dir.), Christian Bale, Tom Hardy 8.32862128958966\n",
            "71 - Oldboy (2003) - Starring: Park Chan-wook (dir.), Choi Min-sik, Yoo Ji-Tae 8.319825334925495\n",
            "72 - Joker (2019) - Starring: Todd Phillips (dir.), Joaquin Phoenix, Robert De Niro 8.319555758662444\n",
            "73 - Amadeus (1984) - Starring: Milos Forman (dir.), F. Murray Abraham, Tom Hulce 8.315415360564005\n",
            "74 - Braveheart (1995) - Starring: Mel Gibson (dir.), Mel Gibson, Sophie Marceau 8.315375743735881\n",
            "75 - Toy Story (1995) - Starring: John Lasseter (dir.), Tom Hanks, Tim Allen 8.314840250985911\n",
            "76 - Coco (2017) - Starring: Lee Unkrich (dir.), Anthony Gonzalez, Gael García Bernal 8.31217652934013\n",
            "77 - The Boat (1981) - Starring: Wolfgang Petersen (dir.), Jürgen Prochnow, Herbert Grönemeyer 8.31170215310522\n",
            "78 - Inglourious Basterds (2009) - Starring: Quentin Tarantino (dir.), Brad Pitt, Diane Kruger 8.311068432133727\n",
            "79 - Princess Mononoke (1997) - Starring: Hayao Miyazaki (dir.), Yôji Matsuda, Yuriko Ishida 8.303602210021415\n",
            "80 - Avengers: Endgame (2019) - Starring: Anthony Russo (dir.), Robert Downey Jr., Chris Evans 8.301291173578559\n",
            "81 - Once Upon a Time in America (1984) - Starring: Sergio Leone (dir.), Robert De Niro, James Woods 8.300232025150217\n",
            "82 - Good Will Hunting (1997) - Starring: Gus Van Sant (dir.), Robin Williams, Matt Damon 8.286642813975089\n",
            "83 - Requiem for a Dream (2000) - Starring: Darren Aronofsky (dir.), Ellen Burstyn, Jared Leto 8.276771300332133\n",
            "84 - Toy Story 3 (2010) - Starring: Lee Unkrich (dir.), Tom Hanks, Tim Allen 8.276684266273701\n",
            "85 - Your Name (2016) - Starring: Makoto Shinkai (dir.), Ryûnosuke Kamiki, Mone Kamishiraishi 8.274886623421251\n",
            "86 - Singin' in the Rain (1952) - Starring: Stanley Donen (dir.), Gene Kelly, Donald O'Connor 8.27365187205354\n",
            "87 - 3 Idiots (2009) - Starring: Rajkumar Hirani (dir.), Aamir Khan, Madhavan 8.269100336193956\n",
            "88 - Star Wars: Episode VI - Return of the Jedi (1983) - Starring: Richard Marquand (dir.), Mark Hamill, Harrison Ford 8.26790469334217\n",
            "89 - 2001: A Space Odyssey (1968) - Starring: Stanley Kubrick (dir.), Keir Dullea, Gary Lockwood 8.265102872888423\n",
            "90 - Eternal Sunshine of the Spotless Mind (2004) - Starring: Michel Gondry (dir.), Jim Carrey, Kate Winslet 8.2644214815918\n",
            "91 - Reservoir Dogs (1992) - Starring: Quentin Tarantino (dir.), Harvey Keitel, Tim Roth 8.264287933196254\n",
            "92 - High and Low (1963) - Starring: Akira Kurosawa (dir.), Toshirô Mifune, Yutaka Sada 8.26344437785124\n",
            "93 - Capernaum (2018) - Starring: Nadine Labaki (dir.), Zain Al Rafeea, Yordanos Shiferaw 8.25854083355028\n",
            "94 - Citizen Kane (1941) - Starring: Orson Welles (dir.), Orson Welles, Joseph Cotten 8.257788546029971\n",
            "95 - Lawrence of Arabia (1962) - Starring: David Lean (dir.), Peter O'Toole, Alec Guinness 8.256395606579307\n",
            "96 - The Hunt (2012) - Starring: Thomas Vinterberg (dir.), Mads Mikkelsen, Thomas Bo Larsen 8.255021612520823\n",
            "97 - M (1931) - Starring: Fritz Lang (dir.), Peter Lorre, Ellen Widmann 8.25370640701334\n",
            "98 - North by Northwest (1959) - Starring: Alfred Hitchcock (dir.), Cary Grant, Eva Marie Saint 8.253601718786097\n",
            "99 - Vertigo (1958) - Starring: Alfred Hitchcock (dir.), James Stewart, Kim Novak 8.248023104363423\n",
            "10 -  Amélie (2001) - Starring: Jean-Pierre Jeunet (dir.), Audrey Tautou, Mathieu Kassovitz 8.245950921419563\n",
            "101 - A Clockwork Orange (1971) - Starring: Stanley Kubrick (dir.), Malcolm McDowell, Patrick Magee 8.24454676422274\n",
            "102 - Come and See (1985) - Starring: Elem Klimov (dir.), Aleksey Kravchenko, Olga Mironova 8.24354771177732\n",
            "103 - Full Metal Jacket (1987) - Starring: Stanley Kubrick (dir.), Matthew Modine, R. Lee Ermey 8.239967328794263\n",
            "104 - Double Indemnity (1944) - Starring: Billy Wilder (dir.), Fred MacMurray, Barbara Stanwyck 8.238163521761997\n",
            "105 - The Apartment (1960) - Starring: Billy Wilder (dir.), Jack Lemmon, Shirley MacLaine 8.23723811059313\n",
            "106 - Scarface (1983) - Starring: Brian De Palma (dir.), Al Pacino, Michelle Pfeiffer 8.23511992201791\n",
            "107 - Ikiru (1952) - Starring: Akira Kurosawa (dir.), Takashi Shimura, Nobuo Kaneko 8.231124262073225\n",
            "108 - The Sting (1973) - Starring: George Roy Hill (dir.), Paul Newman, Robert Redford 8.229001058809839\n",
            "109 - To Kill a Mockingbird (1962) - Starring: Robert Mulligan (dir.), Gregory Peck, John Megna 8.228839771193547\n",
            "110 - Taxi Driver (1976) - Starring: Martin Scorsese (dir.), Robert De Niro, Jodie Foster 8.227712044433481\n",
            "111 - LA Confidential (1997) - Starring: Curtis Hanson (dir.), Kevin Spacey, Russell Crowe 8.224671447549124\n",
            "112 - Up (2009) - Starring: Pete Docter (dir.), Edward Asner, Jordan Nagai 8.224338537872914\n",
            "113 - Heat (1995) - Starring: Michael Mann (dir.), Al Pacino, Robert De Niro 8.223435166142876\n",
            "114 - Hamilton (2020) - Starring: Thomas Kail (dir.), Lin-Manuel Miranda, Phillipa Soo 8.221794230239704\n",
            "115 - Metropolis (1927) - Starring: Fritz Lang (dir.), Brigitte Helm, Alfred Abel 8.221117187038601\n",
            "116 - A Separation (2011) - Starring: Asghar Farhadi (dir.), Payman Maadi, Leila Hatami 8.220471931814926\n",
            "117 - Snatch (2000) - Starring: Guy Ritchie (dir.), Jason Statham, Brad Pitt 8.220338648213444\n",
            "118 - Die Hard (1988) - Starring: John McTiernan (dir.), Bruce Willis, Alan Rickman 8.22025129083535\n",
            "119 - Incendies (2010) - Starring: Denis Villeneuve (dir.), Lubna Azabal, Mélissa Désormeaux-Poulin 8.219483480733325\n",
            "120 - Indiana Jones and the Last Crusade (1989) - Starring: Steven Spielberg (dir.), Harrison Ford, Sean Connery 8.21840062911802\n",
            "121 - Bicycle Thieves (1948) - Starring: Vittorio De Sica (dir.), Lamberto Maggiorani, Enzo Staiola 8.217662756487597\n",
            "122 - 1917 (2019) - Starring: Sam Mendes (dir.), Dean-Charles Chapman, George MacKay 8.212212979086367\n",
            "123 - Spider-Man: No Way Home (2021) - Starring: Jon Watts (dir.), Tom Holland, Zendaya 8.208847818333146\n",
            "124 - Like Stars on Earth (2007) - Starring: Aamir Khan (dir.), Darsheel Safary, Aamir Khan 8.206352239108794\n",
            "125 - Downfall (2004) - Starring: Oliver Hirschbiegel (dir.), Bruno Ganz, Alexandra Maria Lara 8.204703581335647\n",
            "126 - For a Few Dollars More (1965) - Starring: Sergio Leone (dir.), Clint Eastwood, Lee Van Cleef 8.2032803269836\n",
            "127 - Batman Begins (2005) - Starring: Christopher Nolan (dir.), Christian Bale, Michael Caine 8.202089828666866\n",
            "128 - Dangal (2016) - Starring: Nitesh Tiwari (dir.), Aamir Khan, Sakshi Tanwar 8.197394938549435\n",
            "129 - The Kid (1921) - Starring: Charles Chaplin (dir.), Charles Chaplin, Edna Purviance 8.194471841204802\n",
            "130 - Some Like It Hot (1959) - Starring: Billy Wilder (dir.), Marilyn Monroe, Tony Curtis 8.19150068311864\n",
            "131 - The Father (2020) - Starring: Florian Zeller (dir.), Anthony Hopkins, Olivia Colman 8.182216020226107\n",
            "132 - All About Eve (1950) - Starring: Joseph L. Mankiewicz (dir.), Bette Davis, Anne Baxter 8.180369879223173\n",
            "133 - Green Book (2018) - Starring: Peter Farrelly (dir.), Viggo Mortensen, Mahershala Ali 8.174200265733587\n",
            "134 - The Wolf of Wall Street (2013) - Starring: Martin Scorsese (dir.), Leonardo DiCaprio, Jonah Hill 8.171738530666474\n",
            "135 - Judgment at Nuremberg (1961) - Starring: Stanley Kramer (dir.), Spencer Tracy, Burt Lancaster 8.168545564978498\n",
            "136 - Unforgiven (1992) - Starring: Clint Eastwood (dir.), Clint Eastwood, Gene Hackman 8.164417813703796\n",
            "137 - Ran (1985) - Starring: Akira Kurosawa (dir.), Tatsuya Nakadai, Akira Terao 8.16396269979915\n",
            "138 - Casino (1995) - Starring: Martin Scorsese (dir.), Robert De Niro, Sharon Stone 8.163754171162322\n",
            "139 - Everything Everywhere All at Once (2022) - Starring: Dan Kwan (dir.), Michelle Yeoh, Stephanie Hsu 8.163599797722176\n",
            "140 - Pan's Labyrinth (2006) - Starring: Guillermo del Toro (dir.), Ivana Baquero, Ariadna Gil 8.16334851696741\n",
            "141 - There Will Be Blood (2007) - Starring: Paul Thomas Anderson (dir.), Daniel Day-Lewis, Paul Dano 8.155144774145842\n",
            "142 - The Sixth Sense (1999) - Starring: M. Night Shyamalan (dir.), Bruce Willis, Haley Joel Osment 8.153734392196874\n",
            "143 - A Beautiful Mind (2001) - Starring: Ron Howard (dir.), Russell Crowe, Ed Harris 8.153096554115454\n",
            "144 - Monty Python and the Holy Grail (1975) - Starring: Terry Gilliam (dir.), Graham Chapman, John Cleese 8.152315887405992\n",
            "145 - The Truman Show (1998) - Starring: Peter Weir (dir.), Jim Carrey, Ed Harris 8.151939130736926\n",
            "146 - Yojimbo (1961) - Starring: Akira Kurosawa (dir.), Toshirô Mifune, Eijirô Tôno 8.149179166744714\n",
            "147 - The Treasure of the Sierra Madre (1948) - Starring: John Huston (dir.), Humphrey Bogart, Walter Huston 8.147960985595457\n",
            "148 - Shutter Island (2010) - Starring: Martin Scorsese (dir.), Leonardo DiCaprio, Emily Mortimer 8.1431349321367\n",
            "149 - Rashomon (1950) - Starring: Akira Kurosawa (dir.), Toshirô Mifune, Machiko Kyô 8.142996315012931\n",
            "150 - The Great Escape (1963) - Starring: John Sturges (dir.), Steve McQueen, James Garner 8.142186256172467\n",
            "151 - Jurassic Park (1993) - Starring: Steven Spielberg (dir.), Sam Neill, Laura Dern 8.141736326986871\n",
            "152 - Kill Bill: Vol 1 (2003) - Starring: Quentin Tarantino (dir.), Uma Thurman, David Carradine 8.137375096213354\n",
            "153 - No Country for Old Men (2007) - Starring: Ethan Coen (dir.), Tommy Lee Jones, Javier Bardem 8.135674117946385\n",
            "154 - Finding Nemo (2003) - Starring: Andrew Stanton (dir.), Albert Brooks, Ellen DeGeneres 8.13129241636655\n",
            "155 - The Elephant Man (1980) - Starring: David Lynch (dir.), Anthony Hopkins, John Hurt 8.130792133946311\n",
            "156 - Raging Bull (1980) - Starring: Martin Scorsese (dir.), Robert De Niro, Cathy Moriarty 8.12969149978183\n",
            "157 - Chinatown (1974) - Starring: Roman Polanski (dir.), Jack Nicholson, Faye Dunaway 8.129589801809528\n",
            "158 - Gone with the Wind (1939) - Starring: Victor Fleming (dir.), Clark Gable, Vivien Leigh 8.126844181241617\n",
            "159 - V for Vendetta (2005) - Starring: James McTeigue (dir.), Hugo Weaving, Natalie Portman 8.12584357838315\n",
            "160 - The Thing (1982) - Starring: John Carpenter (dir.), Kurt Russell, Wilford Brimley 8.125196941404981\n",
            "161 - Inside Out (2015) - Starring: Pete Docter (dir.), Amy Poehler, Bill Hader 8.124413584301047\n",
            "162 - Lock, Stock and Two Smoking Barrels (1998) - Starring: Guy Ritchie (dir.), Jason Flemyng, Dexter Fletcher 8.12328954861014\n",
            "163 - Dial M for Murder (1954) - Starring: Alfred Hitchcock (dir.), Ray Milland, Grace Kelly 8.119138393397535\n",
            "164 - The Secret in Their Eyes (2009) - Starring: Juan José Campanella (dir.), Ricardo Darín, Soledad Villamil 8.117602009925777\n",
            "165 - The Bridge on the River Kwai (1957) - Starring: David Lean (dir.), William Holden, Alec Guinness 8.114278570350475\n",
            "166 - Howl's Moving Castle (2004) - Starring: Hayao Miyazaki (dir.), Chieko Baishô, Takuya Kimura 8.114246630172989\n",
            "167 - Three Billboards Outside Ebbing, Missouri (2017) - Starring: Martin McDonagh (dir.), Frances McDormand, Woody Harrelson 8.111637210551615\n",
            "168 - Trainspotting (1996) - Starring: Danny Boyle (dir.), Ewan McGregor, Ewen Bremner 8.111516670838363\n",
            "169 - Gran Torino (2008) - Starring: Clint Eastwood (dir.), Clint Eastwood, Bee Vang 8.105002010004831\n",
            "170 - Warrior (2011) - Starring: Gavin O'Connor (dir.), Tom Hardy, Nick Nolte 8.104965868571846\n",
            "171 - Fargo (1996) - Starring: Joel Coen (dir.), William H. Macy, Frances McDormand 8.103456588765463\n",
            "172 - Prisoners (2013) - Starring: Denis Villeneuve (dir.), Hugh Jackman, Jake Gyllenhaal 8.09545004923877\n",
            "173 - My Neighbor Totoro (1988) - Starring: Hayao Miyazaki (dir.), Hitoshi Takagi, Noriko Hidaka 8.095404058728176\n",
            "174 - Million Dollar Baby (2004) - Starring: Clint Eastwood (dir.), Hilary Swank, Clint Eastwood 8.089959484670857\n",
            "175 - The Gold Rush (1925) - Starring: Charles Chaplin (dir.), Charles Chaplin, Mack Swain 8.087763267083034\n",
            "176 - Blade Runner (1982) - Starring: Ridley Scott (dir.), Harrison Ford, Rutger Hauer 8.086847367375904\n",
            "177 - Catch Me If You Can (2002) - Starring: Steven Spielberg (dir.), Leonardo DiCaprio, Tom Hanks 8.086318510026318\n",
            "178 - On the Waterfront (1954) - Starring: Elia Kazan (dir.), Marlon Brando, Karl Malden 8.084083939696598\n",
            "179 - The Third Man (1949) - Starring: Carol Reed (dir.), Orson Welles, Joseph Cotten 8.082280521321795\n",
            "180 - Children of Heaven (1997) - Starring: Majid Majidi (dir.), Mohammad Amir Naji, Amir Farrokh Hashemian 8.080815275418866\n",
            "181 - Ben-Hur (1959) - Starring: William Wyler (dir.), Charlton Heston, Jack Hawkins 8.078651583725973\n",
            "182 - 12 Years a Slave (2013) - Starring: Steve McQueen (dir.), Chiwetel Ejiofor, Michael Kenneth Williams 8.07818322773047\n",
            "183 - The General (1926) - Starring: Clyde Bruckman (dir.), Buster Keaton, Marion Mack 8.077633870144089\n",
            "184 - Wild Strawberries (1957) - Starring: Ingmar Bergman (dir.), Victor Sjöström, Bibi Andersson 8.077517877003196\n",
            "185 - Gone Girl (2014) - Starring: David Fincher (dir.), Ben Affleck, Rosamund Pike 8.07721992083329\n",
            "186 - Before Sunrise (1995) - Starring: Richard Linklater (dir.), Ethan Hawke, Julie Delpy 8.0770631570773\n",
            "187 - Harry Potter and the Deathly Hallows: Part 2 (2011) - Starring: David Yates (dir.), Daniel Radcliffe, Emma Watson 8.075976556904408\n",
            "188 - The Deer Hunter (1978) - Starring: Michael Cimino (dir.), Robert De Niro, Christopher Walken 8.075556651227567\n",
            "189 - In the Name of the Father (1993) - Starring: Jim Sheridan (dir.), Daniel Day-Lewis, Pete Postlethwaite 8.074281478968706\n",
            "190 - The Grand Budapest Hotel (2014) - Starring: Wes Anderson (dir.), Ralph Fiennes, F. Murray Abraham 8.07258109198459\n",
            "191 - Mr Smith Goes to Washington (1939) - Starring: Frank Capra (dir.), James Stewart, Jean Arthur 8.071105058573714\n",
            "192 - The Wages of Fear (1953) - Starring: Henri-Georges Clouzot (dir.), Yves Montand, Charles Vanel 8.069608445573426\n",
            "193 - Barry Lyndon (1975) - Starring: Stanley Kubrick (dir.), Ryan O'Neal, Marisa Berenson 8.069528140310554\n",
            "194 - Sherlock Jr (1924) - Starring: Buster Keaton (dir.), Buster Keaton, Kathryn McGuire 8.069228558047598\n",
            "195 - Memories of Murder (2003) - Starring: Bong Joon Ho (dir.), Song Kang-ho, Kim Sang-kyung 8.068218002019641\n",
            "196 - Room (2015) - Starring: Lenny Abrahamson (dir.), Brie Larson, Jacob Tremblay 8.067270822625257\n",
            "197 - Klaus (2019) - Starring: Sergio Pablos (dir.), Jason Schwartzman, J.K. Simmons 8.067258604763516\n",
            "198 - Hacksaw Ridge (2016) - Starring: Mel Gibson (dir.), Andrew Garfield, Sam Worthington 8.067146806865335\n",
            "199 - The Seventh Seal (1957) - Starring: Ingmar Bergman (dir.), Max von Sydow, Gunnar Björnstrand 8.066444375798273\n",
            "200 - Wild Tales (2014) - Starring: Damián Szifron (dir.), Darío Grandinetti, María Marull 8.065231093197323\n",
            "201 - The Big Lebowski (1998) - Starring: Joel Coen (dir.), Jeff Bridges, John Goodman 8.0627293991756\n",
            "202 - Mad Max: Fury Road (2015) - Starring: George Miller (dir.), Tom Hardy, Charlize Theron 8.062015868933532\n",
            "203 - How to Train Your Dragon (2010) - Starring: Dean DeBlois (dir.), Jay Baruchel, Gerard Butler 8.061815708467424\n",
            "204 - Mary and Max (2009) - Starring: Adam Elliot (dir.), Toni Collette, Philip Seymour Hoffman 8.060390833261424\n",
            "205 - Monsters, Inc (2001) - Starring: Pete Docter (dir.), Billy Crystal, John Goodman 8.058727697804049\n",
            "206 - Jaws (1975) - Starring: Steven Spielberg (dir.), Roy Scheider, Robert Shaw 8.057846818391937\n",
            "207 - The Passion of Joan of Arc (1928) - Starring: Carl Theodor Dreyer (dir.), Maria Falconetti, Eugene Silvain 8.05496058459051\n",
            "208 - Hotel Rwanda (2004) - Starring: Terry George (dir.), Don Cheadle, Sophie Okonedo 8.052759909024342\n",
            "209 - Dead Poets Society (1989) - Starring: Peter Weir (dir.), Robin Williams, Robert Sean Leonard 8.052392183037567\n",
            "210 - Tokyo Story (1953) - Starring: Yasujirô Ozu (dir.), Chishû Ryû, Chieko Higashiyama 8.052002473833594\n",
            "211 - Pather Panchali (1955) - Starring: Satyajit Ray (dir.), Kanu Bannerjee, Karuna Bannerjee 8.050229989559723\n",
            "212 - Rocky (1976) - Starring: John G. Avildsen (dir.), Sylvester Stallone, Talia Shire 8.047237730017104\n",
            "213 - Platoon (1986) - Starring: Oliver Stone (dir.), Charlie Sheen, Tom Berenger 8.047212012950357\n",
            "214 - Ford v Ferrari (2019) - Starring: James Mangold (dir.), Matt Damon, Christian Bale 8.045907807292753\n",
            "215 - Stand by Me (1986) - Starring: Rob Reiner (dir.), Wil Wheaton, River Phoenix 8.042061496130724\n",
            "216 - The Terminator (1984) - Starring: James Cameron (dir.), Arnold Schwarzenegger, Linda Hamilton 8.041380972294663\n",
            "217 - Spotlight (2015) - Starring: Tom McCarthy (dir.), Mark Ruffalo, Michael Keaton 8.039348934215282\n",
            "218 - Rush (2013) - Starring: Ron Howard (dir.), Daniel Brühl, Chris Hemsworth 8.039159244728976\n",
            "219 - Network (1976) - Starring: Sidney Lumet (dir.), Faye Dunaway, William Holden 8.037148113977132\n",
            "220 - Into the Wild (2007) - Starring: Sean Penn (dir.), Emile Hirsch, Vince Vaughn 8.037143996016173\n",
            "221 - The Wizard of Oz (1939) - Starring: Victor Fleming (dir.), Judy Garland, Frank Morgan 8.035690812314552\n",
            "222 - Logan (2017) - Starring: James Mangold (dir.), Hugh Jackman, Patrick Stewart 8.03569012478126\n",
            "223 - Ratatouille (2007) - Starring: Brad Bird (dir.), Brad Garrett, Lou Romano 8.032504112333998\n",
            "224 - Groundhog Day (1993) - Starring: Harold Ramis (dir.), Bill Murray, Andie MacDowell 8.032367126912034\n",
            "225 - Before Sunset (2004) - Starring: Richard Linklater (dir.), Ethan Hawke, Julie Delpy 8.02873213507316\n",
            "226 - The Exorcist (1973) - Starring: William Friedkin (dir.), Ellen Burstyn, Max von Sydow 8.02824450081765\n",
            "227 - The Best Years of Our Lives (1946) - Starring: William Wyler (dir.), Myrna Loy, Dana Andrews 8.02601602240594\n",
            "228 - The Incredibles (2004) - Starring: Brad Bird (dir.), Craig T. Nelson, Samuel L. Jackson 8.025787389162062\n",
            "229 - To Be or Not to Be (1942) - Starring: Ernst Lubitsch (dir.), Carole Lombard, Jack Benny 8.024803689492476\n",
            "230 - Rebecca (1940) - Starring: Alfred Hitchcock (dir.), Laurence Olivier, Joan Fontaine 8.022601927391175\n",
            "231 - The Battle of Algiers (1966) - Starring: Gillo Pontecorvo (dir.), Brahim Hadjadj, Jean Martin 8.022568540429681\n",
            "232 - The Grapes of Wrath (1940) - Starring: John Ford (dir.), Henry Fonda, Jane Darwell 8.022311847063515\n",
            "233 - Hachi: A Dog's Tale (2009) - Starring: Lasse Hallström (dir.), Richard Gere, Joan Allen 8.02161647941217\n",
            "234 - Cool Hand Luke (1967) - Starring: Stuart Rosenberg (dir.), Paul Newman, George Kennedy 8.021207602015343\n",
            "235 - Amores perros (2000) - Starring: Alejandro G. Iñárritu (dir.), Emilio Echevarría, Gael García Bernal 8.020863113075539\n",
            "236 - Pirates of the Caribbean: The Curse of the Black Pearl (2003) - Starring: Gore Verbinski (dir.), Johnny Depp, Geoffrey Rush 8.019085934549437\n",
            "237 - La Haine (1995) - Starring: Mathieu Kassovitz (dir.), Vincent Cassel, Hubert Koundé 8.01632841144109\n",
            "238 - The 400 Blows (1959) - Starring: François Truffaut (dir.), Jean-Pierre Léaud, Albert Rémy 8.016062220239137\n",
            "239 - Persona (1966) - Starring: Ingmar Bergman (dir.), Bibi Andersson, Liv Ullmann 8.015829496271806\n",
            "240 - My Father and My Son (2005) - Starring: Cagan Irmak (dir.), Çetin Tekindor, Fikret Kuskan 8.014699284091696\n",
            "241 - Life of Brian (1979) - Starring: Terry Jones (dir.), Graham Chapman, John Cleese 8.014444788872057\n",
            "242 - Dersu Uzala (1975) - Starring: Akira Kurosawa (dir.), Maksim Munzuk, Yuriy Solomin 8.013740459284962\n",
            "243 - It Happened One Night (1934) - Starring: Frank Capra (dir.), Clark Gable, Claudette Colbert 8.013702537017762\n",
            "244 - The Sound of Music (1965) - Starring: Robert Wise (dir.), Julie Andrews, Christopher Plummer 8.013643910791878\n",
            "245 - The Handmaiden (2016) - Starring: Park Chan-wook (dir.), Kim Min-hee, Ha Jung-woo 8.009278264881651\n",
            "246 - Aladdin (1992) - Starring: Ron Clements (dir.), Scott Weinger, Robin Williams 8.006996188862768\n",
            "247 - Gandhi (1982) - Starring: Richard Attenborough (dir.), Ben Kingsley, John Gielgud 8.006333127378499\n",
            "248 - Jai Bhim (2021) - Starring: T.J. Gnanavel (dir.), Suriya, Lijo Mol Jose 8.005653818349357\n",
            "249 - The Help (2011) - Starring: Tate Taylor (dir.), Emma Stone, Viola Davis 8.004665722562926\n",
            "250 - Beauty and the Beast (1991) - Starring: Gary Trousdale (dir.), Paige O'Hara, Robby Benson 8.002986423945853\n"
          ]
        }
      ]
    },
    {
      "cell_type": "code",
      "source": [
        "#saving the list as dataframe\n",
        "df = pd.DataFrame(list1)"
      ],
      "metadata": {
        "id": "wbTAOQNrTvbv"
      },
      "execution_count": null,
      "outputs": []
    },
    {
      "cell_type": "code",
      "source": [
        "df.head()"
      ],
      "metadata": {
        "colab": {
          "base_uri": "https://localhost:8080/",
          "height": 206
        },
        "id": "rdmiamtGWHu1",
        "outputId": "ba351949-2a14-463f-8fef-88a61678e2c0"
      },
      "execution_count": null,
      "outputs": [
        {
          "output_type": "execute_result",
          "data": {
            "text/plain": [
              "  Location               Movie_title             rating  Year  \\\n",
              "0        1  The Shawshank Redemption  9.233954495698477  1994   \n",
              "1        2             The Godfather    9.1560474473662  1972   \n",
              "2        3           The Dark Knight  8.985754553547302  2008   \n",
              "3        4     The Godfather Part II  8.984208074470846  1974   \n",
              "4        5              12 Angry Men  8.947842593083273  1957   \n",
              "\n",
              "                                           Star_cast  \n",
              "0  Frank Darabont (dir.), Tim Robbins, Morgan Fre...  \n",
              "1  Francis Ford Coppola (dir.), Marlon Brando, Al...  \n",
              "2  Christopher Nolan (dir.), Christian Bale, Heat...  \n",
              "3  Francis Ford Coppola (dir.), Al Pacino, Robert...  \n",
              "4      Sidney Lumet (dir.), Henry Fonda, Lee J. Cobb  "
            ],
            "text/html": [
              "\n",
              "  <div id=\"df-aadbaabe-784c-440c-a1af-ad5690c07904\">\n",
              "    <div class=\"colab-df-container\">\n",
              "      <div>\n",
              "<style scoped>\n",
              "    .dataframe tbody tr th:only-of-type {\n",
              "        vertical-align: middle;\n",
              "    }\n",
              "\n",
              "    .dataframe tbody tr th {\n",
              "        vertical-align: top;\n",
              "    }\n",
              "\n",
              "    .dataframe thead th {\n",
              "        text-align: right;\n",
              "    }\n",
              "</style>\n",
              "<table border=\"1\" class=\"dataframe\">\n",
              "  <thead>\n",
              "    <tr style=\"text-align: right;\">\n",
              "      <th></th>\n",
              "      <th>Location</th>\n",
              "      <th>Movie_title</th>\n",
              "      <th>rating</th>\n",
              "      <th>Year</th>\n",
              "      <th>Star_cast</th>\n",
              "    </tr>\n",
              "  </thead>\n",
              "  <tbody>\n",
              "    <tr>\n",
              "      <th>0</th>\n",
              "      <td>1</td>\n",
              "      <td>The Shawshank Redemption</td>\n",
              "      <td>9.233954495698477</td>\n",
              "      <td>1994</td>\n",
              "      <td>Frank Darabont (dir.), Tim Robbins, Morgan Fre...</td>\n",
              "    </tr>\n",
              "    <tr>\n",
              "      <th>1</th>\n",
              "      <td>2</td>\n",
              "      <td>The Godfather</td>\n",
              "      <td>9.1560474473662</td>\n",
              "      <td>1972</td>\n",
              "      <td>Francis Ford Coppola (dir.), Marlon Brando, Al...</td>\n",
              "    </tr>\n",
              "    <tr>\n",
              "      <th>2</th>\n",
              "      <td>3</td>\n",
              "      <td>The Dark Knight</td>\n",
              "      <td>8.985754553547302</td>\n",
              "      <td>2008</td>\n",
              "      <td>Christopher Nolan (dir.), Christian Bale, Heat...</td>\n",
              "    </tr>\n",
              "    <tr>\n",
              "      <th>3</th>\n",
              "      <td>4</td>\n",
              "      <td>The Godfather Part II</td>\n",
              "      <td>8.984208074470846</td>\n",
              "      <td>1974</td>\n",
              "      <td>Francis Ford Coppola (dir.), Al Pacino, Robert...</td>\n",
              "    </tr>\n",
              "    <tr>\n",
              "      <th>4</th>\n",
              "      <td>5</td>\n",
              "      <td>12 Angry Men</td>\n",
              "      <td>8.947842593083273</td>\n",
              "      <td>1957</td>\n",
              "      <td>Sidney Lumet (dir.), Henry Fonda, Lee J. Cobb</td>\n",
              "    </tr>\n",
              "  </tbody>\n",
              "</table>\n",
              "</div>\n",
              "      <button class=\"colab-df-convert\" onclick=\"convertToInteractive('df-aadbaabe-784c-440c-a1af-ad5690c07904')\"\n",
              "              title=\"Convert this dataframe to an interactive table.\"\n",
              "              style=\"display:none;\">\n",
              "        \n",
              "  <svg xmlns=\"http://www.w3.org/2000/svg\" height=\"24px\"viewBox=\"0 0 24 24\"\n",
              "       width=\"24px\">\n",
              "    <path d=\"M0 0h24v24H0V0z\" fill=\"none\"/>\n",
              "    <path d=\"M18.56 5.44l.94 2.06.94-2.06 2.06-.94-2.06-.94-.94-2.06-.94 2.06-2.06.94zm-11 1L8.5 8.5l.94-2.06 2.06-.94-2.06-.94L8.5 2.5l-.94 2.06-2.06.94zm10 10l.94 2.06.94-2.06 2.06-.94-2.06-.94-.94-2.06-.94 2.06-2.06.94z\"/><path d=\"M17.41 7.96l-1.37-1.37c-.4-.4-.92-.59-1.43-.59-.52 0-1.04.2-1.43.59L10.3 9.45l-7.72 7.72c-.78.78-.78 2.05 0 2.83L4 21.41c.39.39.9.59 1.41.59.51 0 1.02-.2 1.41-.59l7.78-7.78 2.81-2.81c.8-.78.8-2.07 0-2.86zM5.41 20L4 18.59l7.72-7.72 1.47 1.35L5.41 20z\"/>\n",
              "  </svg>\n",
              "      </button>\n",
              "      \n",
              "  <style>\n",
              "    .colab-df-container {\n",
              "      display:flex;\n",
              "      flex-wrap:wrap;\n",
              "      gap: 12px;\n",
              "    }\n",
              "\n",
              "    .colab-df-convert {\n",
              "      background-color: #E8F0FE;\n",
              "      border: none;\n",
              "      border-radius: 50%;\n",
              "      cursor: pointer;\n",
              "      display: none;\n",
              "      fill: #1967D2;\n",
              "      height: 32px;\n",
              "      padding: 0 0 0 0;\n",
              "      width: 32px;\n",
              "    }\n",
              "\n",
              "    .colab-df-convert:hover {\n",
              "      background-color: #E2EBFA;\n",
              "      box-shadow: 0px 1px 2px rgba(60, 64, 67, 0.3), 0px 1px 3px 1px rgba(60, 64, 67, 0.15);\n",
              "      fill: #174EA6;\n",
              "    }\n",
              "\n",
              "    [theme=dark] .colab-df-convert {\n",
              "      background-color: #3B4455;\n",
              "      fill: #D2E3FC;\n",
              "    }\n",
              "\n",
              "    [theme=dark] .colab-df-convert:hover {\n",
              "      background-color: #434B5C;\n",
              "      box-shadow: 0px 1px 3px 1px rgba(0, 0, 0, 0.15);\n",
              "      filter: drop-shadow(0px 1px 2px rgba(0, 0, 0, 0.3));\n",
              "      fill: #FFFFFF;\n",
              "    }\n",
              "  </style>\n",
              "\n",
              "      <script>\n",
              "        const buttonEl =\n",
              "          document.querySelector('#df-aadbaabe-784c-440c-a1af-ad5690c07904 button.colab-df-convert');\n",
              "        buttonEl.style.display =\n",
              "          google.colab.kernel.accessAllowed ? 'block' : 'none';\n",
              "\n",
              "        async function convertToInteractive(key) {\n",
              "          const element = document.querySelector('#df-aadbaabe-784c-440c-a1af-ad5690c07904');\n",
              "          const dataTable =\n",
              "            await google.colab.kernel.invokeFunction('convertToInteractive',\n",
              "                                                     [key], {});\n",
              "          if (!dataTable) return;\n",
              "\n",
              "          const docLinkHtml = 'Like what you see? Visit the ' +\n",
              "            '<a target=\"_blank\" href=https://colab.research.google.com/notebooks/data_table.ipynb>data table notebook</a>'\n",
              "            + ' to learn more about interactive tables.';\n",
              "          element.innerHTML = '';\n",
              "          dataTable['output_type'] = 'display_data';\n",
              "          await google.colab.output.renderOutput(dataTable, element);\n",
              "          const docLink = document.createElement('div');\n",
              "          docLink.innerHTML = docLinkHtml;\n",
              "          element.appendChild(docLink);\n",
              "        }\n",
              "      </script>\n",
              "    </div>\n",
              "  </div>\n",
              "  "
            ]
          },
          "metadata": {},
          "execution_count": 28
        }
      ]
    },
    {
      "cell_type": "code",
      "source": [
        "input_actor= input('Enter the name of Star cast: ' )"
      ],
      "metadata": {
        "colab": {
          "base_uri": "https://localhost:8080/"
        },
        "id": "dkJZ60QosrF_",
        "outputId": "9bb5d826-2d0f-41db-c770-794d0fea1270"
      },
      "execution_count": null,
      "outputs": [
        {
          "name": "stdout",
          "output_type": "stream",
          "text": [
            "Enter the name of Star cast: Leonardo DiCaprio\n"
          ]
        }
      ]
    },
    {
      "cell_type": "code",
      "source": [
        "df1=df[df['Star_cast'].str.contains(input_actor)]\n",
        "df_dec=df1.sort_values('Year', ascending= False)"
      ],
      "metadata": {
        "id": "-j4KJ95fp5Os"
      },
      "execution_count": null,
      "outputs": []
    },
    {
      "cell_type": "code",
      "source": [
        "df_dec.head()"
      ],
      "metadata": {
        "colab": {
          "base_uri": "https://localhost:8080/",
          "height": 206
        },
        "id": "inPEwf-hrG4S",
        "outputId": "e75f6760-11b7-4343-9c48-237b17b1897b"
      },
      "execution_count": null,
      "outputs": [
        {
          "output_type": "execute_result",
          "data": {
            "text/plain": [
              "    Location              Movie_title             rating  Year  \\\n",
              "133      134  The Wolf of Wall Street  8.171738530666474  2013   \n",
              "12        13                Inception  8.732946893137395  2010   \n",
              "147      148           Shutter Island    8.1431349321367  2010   \n",
              "39        40             The Departed  8.475095342627219  2006   \n",
              "176      177      Catch Me If You Can  8.086318510026318  2002   \n",
              "\n",
              "                                             Star_cast  \n",
              "133  Martin Scorsese (dir.), Leonardo DiCaprio, Jon...  \n",
              "12   Christopher Nolan (dir.), Leonardo DiCaprio, J...  \n",
              "147  Martin Scorsese (dir.), Leonardo DiCaprio, Emi...  \n",
              "39   Martin Scorsese (dir.), Leonardo DiCaprio, Mat...  \n",
              "176  Steven Spielberg (dir.), Leonardo DiCaprio, To...  "
            ],
            "text/html": [
              "\n",
              "  <div id=\"df-476e623f-8401-426a-b22b-c732f79107c2\">\n",
              "    <div class=\"colab-df-container\">\n",
              "      <div>\n",
              "<style scoped>\n",
              "    .dataframe tbody tr th:only-of-type {\n",
              "        vertical-align: middle;\n",
              "    }\n",
              "\n",
              "    .dataframe tbody tr th {\n",
              "        vertical-align: top;\n",
              "    }\n",
              "\n",
              "    .dataframe thead th {\n",
              "        text-align: right;\n",
              "    }\n",
              "</style>\n",
              "<table border=\"1\" class=\"dataframe\">\n",
              "  <thead>\n",
              "    <tr style=\"text-align: right;\">\n",
              "      <th></th>\n",
              "      <th>Location</th>\n",
              "      <th>Movie_title</th>\n",
              "      <th>rating</th>\n",
              "      <th>Year</th>\n",
              "      <th>Star_cast</th>\n",
              "    </tr>\n",
              "  </thead>\n",
              "  <tbody>\n",
              "    <tr>\n",
              "      <th>133</th>\n",
              "      <td>134</td>\n",
              "      <td>The Wolf of Wall Street</td>\n",
              "      <td>8.171738530666474</td>\n",
              "      <td>2013</td>\n",
              "      <td>Martin Scorsese (dir.), Leonardo DiCaprio, Jon...</td>\n",
              "    </tr>\n",
              "    <tr>\n",
              "      <th>12</th>\n",
              "      <td>13</td>\n",
              "      <td>Inception</td>\n",
              "      <td>8.732946893137395</td>\n",
              "      <td>2010</td>\n",
              "      <td>Christopher Nolan (dir.), Leonardo DiCaprio, J...</td>\n",
              "    </tr>\n",
              "    <tr>\n",
              "      <th>147</th>\n",
              "      <td>148</td>\n",
              "      <td>Shutter Island</td>\n",
              "      <td>8.1431349321367</td>\n",
              "      <td>2010</td>\n",
              "      <td>Martin Scorsese (dir.), Leonardo DiCaprio, Emi...</td>\n",
              "    </tr>\n",
              "    <tr>\n",
              "      <th>39</th>\n",
              "      <td>40</td>\n",
              "      <td>The Departed</td>\n",
              "      <td>8.475095342627219</td>\n",
              "      <td>2006</td>\n",
              "      <td>Martin Scorsese (dir.), Leonardo DiCaprio, Mat...</td>\n",
              "    </tr>\n",
              "    <tr>\n",
              "      <th>176</th>\n",
              "      <td>177</td>\n",
              "      <td>Catch Me If You Can</td>\n",
              "      <td>8.086318510026318</td>\n",
              "      <td>2002</td>\n",
              "      <td>Steven Spielberg (dir.), Leonardo DiCaprio, To...</td>\n",
              "    </tr>\n",
              "  </tbody>\n",
              "</table>\n",
              "</div>\n",
              "      <button class=\"colab-df-convert\" onclick=\"convertToInteractive('df-476e623f-8401-426a-b22b-c732f79107c2')\"\n",
              "              title=\"Convert this dataframe to an interactive table.\"\n",
              "              style=\"display:none;\">\n",
              "        \n",
              "  <svg xmlns=\"http://www.w3.org/2000/svg\" height=\"24px\"viewBox=\"0 0 24 24\"\n",
              "       width=\"24px\">\n",
              "    <path d=\"M0 0h24v24H0V0z\" fill=\"none\"/>\n",
              "    <path d=\"M18.56 5.44l.94 2.06.94-2.06 2.06-.94-2.06-.94-.94-2.06-.94 2.06-2.06.94zm-11 1L8.5 8.5l.94-2.06 2.06-.94-2.06-.94L8.5 2.5l-.94 2.06-2.06.94zm10 10l.94 2.06.94-2.06 2.06-.94-2.06-.94-.94-2.06-.94 2.06-2.06.94z\"/><path d=\"M17.41 7.96l-1.37-1.37c-.4-.4-.92-.59-1.43-.59-.52 0-1.04.2-1.43.59L10.3 9.45l-7.72 7.72c-.78.78-.78 2.05 0 2.83L4 21.41c.39.39.9.59 1.41.59.51 0 1.02-.2 1.41-.59l7.78-7.78 2.81-2.81c.8-.78.8-2.07 0-2.86zM5.41 20L4 18.59l7.72-7.72 1.47 1.35L5.41 20z\"/>\n",
              "  </svg>\n",
              "      </button>\n",
              "      \n",
              "  <style>\n",
              "    .colab-df-container {\n",
              "      display:flex;\n",
              "      flex-wrap:wrap;\n",
              "      gap: 12px;\n",
              "    }\n",
              "\n",
              "    .colab-df-convert {\n",
              "      background-color: #E8F0FE;\n",
              "      border: none;\n",
              "      border-radius: 50%;\n",
              "      cursor: pointer;\n",
              "      display: none;\n",
              "      fill: #1967D2;\n",
              "      height: 32px;\n",
              "      padding: 0 0 0 0;\n",
              "      width: 32px;\n",
              "    }\n",
              "\n",
              "    .colab-df-convert:hover {\n",
              "      background-color: #E2EBFA;\n",
              "      box-shadow: 0px 1px 2px rgba(60, 64, 67, 0.3), 0px 1px 3px 1px rgba(60, 64, 67, 0.15);\n",
              "      fill: #174EA6;\n",
              "    }\n",
              "\n",
              "    [theme=dark] .colab-df-convert {\n",
              "      background-color: #3B4455;\n",
              "      fill: #D2E3FC;\n",
              "    }\n",
              "\n",
              "    [theme=dark] .colab-df-convert:hover {\n",
              "      background-color: #434B5C;\n",
              "      box-shadow: 0px 1px 3px 1px rgba(0, 0, 0, 0.15);\n",
              "      filter: drop-shadow(0px 1px 2px rgba(0, 0, 0, 0.3));\n",
              "      fill: #FFFFFF;\n",
              "    }\n",
              "  </style>\n",
              "\n",
              "      <script>\n",
              "        const buttonEl =\n",
              "          document.querySelector('#df-476e623f-8401-426a-b22b-c732f79107c2 button.colab-df-convert');\n",
              "        buttonEl.style.display =\n",
              "          google.colab.kernel.accessAllowed ? 'block' : 'none';\n",
              "\n",
              "        async function convertToInteractive(key) {\n",
              "          const element = document.querySelector('#df-476e623f-8401-426a-b22b-c732f79107c2');\n",
              "          const dataTable =\n",
              "            await google.colab.kernel.invokeFunction('convertToInteractive',\n",
              "                                                     [key], {});\n",
              "          if (!dataTable) return;\n",
              "\n",
              "          const docLinkHtml = 'Like what you see? Visit the ' +\n",
              "            '<a target=\"_blank\" href=https://colab.research.google.com/notebooks/data_table.ipynb>data table notebook</a>'\n",
              "            + ' to learn more about interactive tables.';\n",
              "          element.innerHTML = '';\n",
              "          dataTable['output_type'] = 'display_data';\n",
              "          await google.colab.output.renderOutput(dataTable, element);\n",
              "          const docLink = document.createElement('div');\n",
              "          docLink.innerHTML = docLinkHtml;\n",
              "          element.appendChild(docLink);\n",
              "        }\n",
              "      </script>\n",
              "    </div>\n",
              "  </div>\n",
              "  "
            ]
          },
          "metadata": {},
          "execution_count": 40
        }
      ]
    },
    {
      "cell_type": "markdown",
      "source": [
        "##Problem 2\n"
      ],
      "metadata": {
        "id": "NT5s-KVRPrhp"
      }
    },
    {
      "cell_type": "markdown",
      "source": [
        "Create an ML algorithm to classify the planets as Candidate/False positive/Confirmed etc based on the column “koi_disposition”."
      ],
      "metadata": {
        "id": "Ll71TiJvYLLG"
      }
    },
    {
      "cell_type": "code",
      "source": [
        "#importing all the dependencies\n",
        "import numpy as np\n",
        "import pandas as pd\n",
        "import matplotlib.pyplot as plt\n",
        "import seaborn as sns"
      ],
      "metadata": {
        "id": "B2Nx6O3sZRUo"
      },
      "execution_count": null,
      "outputs": []
    },
    {
      "cell_type": "markdown",
      "source": [
        "##Exploratory Data Analysis"
      ],
      "metadata": {
        "id": "lIeij-Zx-s_w"
      }
    },
    {
      "cell_type": "code",
      "source": [
        "#reading the dataset\n",
        "data2 = pd.read_csv(\"/content/drive/MyDrive/Web Scrapping and Machine Learning/kepler_data.csv\", skiprows=52)\n",
        "data2.head()"
      ],
      "metadata": {
        "colab": {
          "base_uri": "https://localhost:8080/",
          "height": 300
        },
        "id": "P4x6RO8wrrPv",
        "outputId": "692d3c9d-7a73-4f36-bff8-a19939ee4d6a"
      },
      "execution_count": null,
      "outputs": [
        {
          "output_type": "execute_result",
          "data": {
            "text/plain": [
              "      kepid kepoi_name   kepler_name koi_disposition koi_pdisposition  \\\n",
              "0  10797460  K00752.01  Kepler-227 b       CONFIRMED        CANDIDATE   \n",
              "1  10797460  K00752.02  Kepler-227 c       CONFIRMED        CANDIDATE   \n",
              "2  10811496  K00753.01           NaN       CANDIDATE        CANDIDATE   \n",
              "3  10848459  K00754.01           NaN  FALSE POSITIVE   FALSE POSITIVE   \n",
              "4  10854555  K00755.01  Kepler-664 b       CONFIRMED        CANDIDATE   \n",
              "\n",
              "   koi_score  koi_fpflag_nt  koi_fpflag_ss  koi_fpflag_co  koi_fpflag_ec  ...  \\\n",
              "0      1.000              0              0              0              0  ...   \n",
              "1      0.969              0              0              0              0  ...   \n",
              "2      0.000              0              0              0              0  ...   \n",
              "3      0.000              0              1              0              0  ...   \n",
              "4      1.000              0              0              0              0  ...   \n",
              "\n",
              "   koi_steff_err2  koi_slogg  koi_slogg_err1  koi_slogg_err2  koi_srad  \\\n",
              "0           -81.0      4.467           0.064          -0.096     0.927   \n",
              "1           -81.0      4.467           0.064          -0.096     0.927   \n",
              "2          -176.0      4.544           0.044          -0.176     0.868   \n",
              "3          -174.0      4.564           0.053          -0.168     0.791   \n",
              "4          -211.0      4.438           0.070          -0.210     1.046   \n",
              "\n",
              "   koi_srad_err1  koi_srad_err2         ra        dec  koi_kepmag  \n",
              "0          0.105         -0.061  291.93423  48.141651      15.347  \n",
              "1          0.105         -0.061  291.93423  48.141651      15.347  \n",
              "2          0.233         -0.078  297.00482  48.134129      15.436  \n",
              "3          0.201         -0.067  285.53461  48.285210      15.597  \n",
              "4          0.334         -0.133  288.75488  48.226200      15.509  \n",
              "\n",
              "[5 rows x 49 columns]"
            ],
            "text/html": [
              "\n",
              "  <div id=\"df-497a24de-ec84-463b-9e69-d5b734b6ddf9\">\n",
              "    <div class=\"colab-df-container\">\n",
              "      <div>\n",
              "<style scoped>\n",
              "    .dataframe tbody tr th:only-of-type {\n",
              "        vertical-align: middle;\n",
              "    }\n",
              "\n",
              "    .dataframe tbody tr th {\n",
              "        vertical-align: top;\n",
              "    }\n",
              "\n",
              "    .dataframe thead th {\n",
              "        text-align: right;\n",
              "    }\n",
              "</style>\n",
              "<table border=\"1\" class=\"dataframe\">\n",
              "  <thead>\n",
              "    <tr style=\"text-align: right;\">\n",
              "      <th></th>\n",
              "      <th>kepid</th>\n",
              "      <th>kepoi_name</th>\n",
              "      <th>kepler_name</th>\n",
              "      <th>koi_disposition</th>\n",
              "      <th>koi_pdisposition</th>\n",
              "      <th>koi_score</th>\n",
              "      <th>koi_fpflag_nt</th>\n",
              "      <th>koi_fpflag_ss</th>\n",
              "      <th>koi_fpflag_co</th>\n",
              "      <th>koi_fpflag_ec</th>\n",
              "      <th>...</th>\n",
              "      <th>koi_steff_err2</th>\n",
              "      <th>koi_slogg</th>\n",
              "      <th>koi_slogg_err1</th>\n",
              "      <th>koi_slogg_err2</th>\n",
              "      <th>koi_srad</th>\n",
              "      <th>koi_srad_err1</th>\n",
              "      <th>koi_srad_err2</th>\n",
              "      <th>ra</th>\n",
              "      <th>dec</th>\n",
              "      <th>koi_kepmag</th>\n",
              "    </tr>\n",
              "  </thead>\n",
              "  <tbody>\n",
              "    <tr>\n",
              "      <th>0</th>\n",
              "      <td>10797460</td>\n",
              "      <td>K00752.01</td>\n",
              "      <td>Kepler-227 b</td>\n",
              "      <td>CONFIRMED</td>\n",
              "      <td>CANDIDATE</td>\n",
              "      <td>1.000</td>\n",
              "      <td>0</td>\n",
              "      <td>0</td>\n",
              "      <td>0</td>\n",
              "      <td>0</td>\n",
              "      <td>...</td>\n",
              "      <td>-81.0</td>\n",
              "      <td>4.467</td>\n",
              "      <td>0.064</td>\n",
              "      <td>-0.096</td>\n",
              "      <td>0.927</td>\n",
              "      <td>0.105</td>\n",
              "      <td>-0.061</td>\n",
              "      <td>291.93423</td>\n",
              "      <td>48.141651</td>\n",
              "      <td>15.347</td>\n",
              "    </tr>\n",
              "    <tr>\n",
              "      <th>1</th>\n",
              "      <td>10797460</td>\n",
              "      <td>K00752.02</td>\n",
              "      <td>Kepler-227 c</td>\n",
              "      <td>CONFIRMED</td>\n",
              "      <td>CANDIDATE</td>\n",
              "      <td>0.969</td>\n",
              "      <td>0</td>\n",
              "      <td>0</td>\n",
              "      <td>0</td>\n",
              "      <td>0</td>\n",
              "      <td>...</td>\n",
              "      <td>-81.0</td>\n",
              "      <td>4.467</td>\n",
              "      <td>0.064</td>\n",
              "      <td>-0.096</td>\n",
              "      <td>0.927</td>\n",
              "      <td>0.105</td>\n",
              "      <td>-0.061</td>\n",
              "      <td>291.93423</td>\n",
              "      <td>48.141651</td>\n",
              "      <td>15.347</td>\n",
              "    </tr>\n",
              "    <tr>\n",
              "      <th>2</th>\n",
              "      <td>10811496</td>\n",
              "      <td>K00753.01</td>\n",
              "      <td>NaN</td>\n",
              "      <td>CANDIDATE</td>\n",
              "      <td>CANDIDATE</td>\n",
              "      <td>0.000</td>\n",
              "      <td>0</td>\n",
              "      <td>0</td>\n",
              "      <td>0</td>\n",
              "      <td>0</td>\n",
              "      <td>...</td>\n",
              "      <td>-176.0</td>\n",
              "      <td>4.544</td>\n",
              "      <td>0.044</td>\n",
              "      <td>-0.176</td>\n",
              "      <td>0.868</td>\n",
              "      <td>0.233</td>\n",
              "      <td>-0.078</td>\n",
              "      <td>297.00482</td>\n",
              "      <td>48.134129</td>\n",
              "      <td>15.436</td>\n",
              "    </tr>\n",
              "    <tr>\n",
              "      <th>3</th>\n",
              "      <td>10848459</td>\n",
              "      <td>K00754.01</td>\n",
              "      <td>NaN</td>\n",
              "      <td>FALSE POSITIVE</td>\n",
              "      <td>FALSE POSITIVE</td>\n",
              "      <td>0.000</td>\n",
              "      <td>0</td>\n",
              "      <td>1</td>\n",
              "      <td>0</td>\n",
              "      <td>0</td>\n",
              "      <td>...</td>\n",
              "      <td>-174.0</td>\n",
              "      <td>4.564</td>\n",
              "      <td>0.053</td>\n",
              "      <td>-0.168</td>\n",
              "      <td>0.791</td>\n",
              "      <td>0.201</td>\n",
              "      <td>-0.067</td>\n",
              "      <td>285.53461</td>\n",
              "      <td>48.285210</td>\n",
              "      <td>15.597</td>\n",
              "    </tr>\n",
              "    <tr>\n",
              "      <th>4</th>\n",
              "      <td>10854555</td>\n",
              "      <td>K00755.01</td>\n",
              "      <td>Kepler-664 b</td>\n",
              "      <td>CONFIRMED</td>\n",
              "      <td>CANDIDATE</td>\n",
              "      <td>1.000</td>\n",
              "      <td>0</td>\n",
              "      <td>0</td>\n",
              "      <td>0</td>\n",
              "      <td>0</td>\n",
              "      <td>...</td>\n",
              "      <td>-211.0</td>\n",
              "      <td>4.438</td>\n",
              "      <td>0.070</td>\n",
              "      <td>-0.210</td>\n",
              "      <td>1.046</td>\n",
              "      <td>0.334</td>\n",
              "      <td>-0.133</td>\n",
              "      <td>288.75488</td>\n",
              "      <td>48.226200</td>\n",
              "      <td>15.509</td>\n",
              "    </tr>\n",
              "  </tbody>\n",
              "</table>\n",
              "<p>5 rows × 49 columns</p>\n",
              "</div>\n",
              "      <button class=\"colab-df-convert\" onclick=\"convertToInteractive('df-497a24de-ec84-463b-9e69-d5b734b6ddf9')\"\n",
              "              title=\"Convert this dataframe to an interactive table.\"\n",
              "              style=\"display:none;\">\n",
              "        \n",
              "  <svg xmlns=\"http://www.w3.org/2000/svg\" height=\"24px\"viewBox=\"0 0 24 24\"\n",
              "       width=\"24px\">\n",
              "    <path d=\"M0 0h24v24H0V0z\" fill=\"none\"/>\n",
              "    <path d=\"M18.56 5.44l.94 2.06.94-2.06 2.06-.94-2.06-.94-.94-2.06-.94 2.06-2.06.94zm-11 1L8.5 8.5l.94-2.06 2.06-.94-2.06-.94L8.5 2.5l-.94 2.06-2.06.94zm10 10l.94 2.06.94-2.06 2.06-.94-2.06-.94-.94-2.06-.94 2.06-2.06.94z\"/><path d=\"M17.41 7.96l-1.37-1.37c-.4-.4-.92-.59-1.43-.59-.52 0-1.04.2-1.43.59L10.3 9.45l-7.72 7.72c-.78.78-.78 2.05 0 2.83L4 21.41c.39.39.9.59 1.41.59.51 0 1.02-.2 1.41-.59l7.78-7.78 2.81-2.81c.8-.78.8-2.07 0-2.86zM5.41 20L4 18.59l7.72-7.72 1.47 1.35L5.41 20z\"/>\n",
              "  </svg>\n",
              "      </button>\n",
              "      \n",
              "  <style>\n",
              "    .colab-df-container {\n",
              "      display:flex;\n",
              "      flex-wrap:wrap;\n",
              "      gap: 12px;\n",
              "    }\n",
              "\n",
              "    .colab-df-convert {\n",
              "      background-color: #E8F0FE;\n",
              "      border: none;\n",
              "      border-radius: 50%;\n",
              "      cursor: pointer;\n",
              "      display: none;\n",
              "      fill: #1967D2;\n",
              "      height: 32px;\n",
              "      padding: 0 0 0 0;\n",
              "      width: 32px;\n",
              "    }\n",
              "\n",
              "    .colab-df-convert:hover {\n",
              "      background-color: #E2EBFA;\n",
              "      box-shadow: 0px 1px 2px rgba(60, 64, 67, 0.3), 0px 1px 3px 1px rgba(60, 64, 67, 0.15);\n",
              "      fill: #174EA6;\n",
              "    }\n",
              "\n",
              "    [theme=dark] .colab-df-convert {\n",
              "      background-color: #3B4455;\n",
              "      fill: #D2E3FC;\n",
              "    }\n",
              "\n",
              "    [theme=dark] .colab-df-convert:hover {\n",
              "      background-color: #434B5C;\n",
              "      box-shadow: 0px 1px 3px 1px rgba(0, 0, 0, 0.15);\n",
              "      filter: drop-shadow(0px 1px 2px rgba(0, 0, 0, 0.3));\n",
              "      fill: #FFFFFF;\n",
              "    }\n",
              "  </style>\n",
              "\n",
              "      <script>\n",
              "        const buttonEl =\n",
              "          document.querySelector('#df-497a24de-ec84-463b-9e69-d5b734b6ddf9 button.colab-df-convert');\n",
              "        buttonEl.style.display =\n",
              "          google.colab.kernel.accessAllowed ? 'block' : 'none';\n",
              "\n",
              "        async function convertToInteractive(key) {\n",
              "          const element = document.querySelector('#df-497a24de-ec84-463b-9e69-d5b734b6ddf9');\n",
              "          const dataTable =\n",
              "            await google.colab.kernel.invokeFunction('convertToInteractive',\n",
              "                                                     [key], {});\n",
              "          if (!dataTable) return;\n",
              "\n",
              "          const docLinkHtml = 'Like what you see? Visit the ' +\n",
              "            '<a target=\"_blank\" href=https://colab.research.google.com/notebooks/data_table.ipynb>data table notebook</a>'\n",
              "            + ' to learn more about interactive tables.';\n",
              "          element.innerHTML = '';\n",
              "          dataTable['output_type'] = 'display_data';\n",
              "          await google.colab.output.renderOutput(dataTable, element);\n",
              "          const docLink = document.createElement('div');\n",
              "          docLink.innerHTML = docLinkHtml;\n",
              "          element.appendChild(docLink);\n",
              "        }\n",
              "      </script>\n",
              "    </div>\n",
              "  </div>\n",
              "  "
            ]
          },
          "metadata": {},
          "execution_count": 2
        }
      ]
    },
    {
      "cell_type": "code",
      "source": [
        "#checking the shape of the dataset\n",
        "print(\"No of rows:\", data2.shape[0])\n",
        "print(\"No of columns:\", data2.shape[1])"
      ],
      "metadata": {
        "colab": {
          "base_uri": "https://localhost:8080/"
        },
        "id": "2lOdi9RjQyDs",
        "outputId": "260b929c-bb55-4aa3-9e06-31d816ae091b"
      },
      "execution_count": null,
      "outputs": [
        {
          "output_type": "stream",
          "name": "stdout",
          "text": [
            "No of rows: 9564\n",
            "No of columns: 49\n"
          ]
        }
      ]
    },
    {
      "cell_type": "code",
      "source": [
        "# Checking for missing values\n",
        "data2.isnull().sum()"
      ],
      "metadata": {
        "colab": {
          "base_uri": "https://localhost:8080/"
        },
        "id": "lgK9Xh2wQyQD",
        "outputId": "97cab4ff-a2f0-4912-be6a-4698d71b0fc3"
      },
      "execution_count": null,
      "outputs": [
        {
          "output_type": "execute_result",
          "data": {
            "text/plain": [
              "kepid                   0\n",
              "kepoi_name              0\n",
              "kepler_name          7204\n",
              "koi_disposition         0\n",
              "koi_pdisposition        0\n",
              "koi_score            1510\n",
              "koi_fpflag_nt           0\n",
              "koi_fpflag_ss           0\n",
              "koi_fpflag_co           0\n",
              "koi_fpflag_ec           0\n",
              "koi_period              0\n",
              "koi_period_err1       454\n",
              "koi_period_err2       454\n",
              "koi_time0bk             0\n",
              "koi_time0bk_err1      454\n",
              "koi_time0bk_err2      454\n",
              "koi_impact            363\n",
              "koi_impact_err1       454\n",
              "koi_impact_err2       454\n",
              "koi_duration            0\n",
              "koi_duration_err1     454\n",
              "koi_duration_err2     454\n",
              "koi_depth             363\n",
              "koi_depth_err1        454\n",
              "koi_depth_err2        454\n",
              "koi_prad              363\n",
              "koi_prad_err1         363\n",
              "koi_prad_err2         363\n",
              "koi_teq               363\n",
              "koi_teq_err1         9564\n",
              "koi_teq_err2         9564\n",
              "koi_insol             321\n",
              "koi_insol_err1        321\n",
              "koi_insol_err2        321\n",
              "koi_model_snr         363\n",
              "koi_tce_plnt_num      346\n",
              "koi_tce_delivname     346\n",
              "koi_steff             363\n",
              "koi_steff_err1        468\n",
              "koi_steff_err2        483\n",
              "koi_slogg             363\n",
              "koi_slogg_err1        468\n",
              "koi_slogg_err2        468\n",
              "koi_srad              363\n",
              "koi_srad_err1         468\n",
              "koi_srad_err2         468\n",
              "ra                      0\n",
              "dec                     0\n",
              "koi_kepmag              1\n",
              "dtype: int64"
            ]
          },
          "metadata": {},
          "execution_count": 4
        }
      ]
    },
    {
      "cell_type": "code",
      "source": [
        "#droping the columns with more null values.\n",
        "data2.drop(['koi_teq_err1', 'koi_teq_err2','kepler_name'], axis=1, inplace=True)"
      ],
      "metadata": {
        "id": "cySSDfz4dfSs"
      },
      "execution_count": null,
      "outputs": []
    },
    {
      "cell_type": "code",
      "source": [
        "#summary if the columns\n",
        "data2.info()"
      ],
      "metadata": {
        "colab": {
          "base_uri": "https://localhost:8080/"
        },
        "id": "65gHXT4zddOR",
        "outputId": "c9cbcad8-a1c1-4fee-a6aa-59a3826785a6"
      },
      "execution_count": null,
      "outputs": [
        {
          "output_type": "stream",
          "name": "stdout",
          "text": [
            "<class 'pandas.core.frame.DataFrame'>\n",
            "RangeIndex: 9564 entries, 0 to 9563\n",
            "Data columns (total 46 columns):\n",
            " #   Column             Non-Null Count  Dtype  \n",
            "---  ------             --------------  -----  \n",
            " 0   kepid              9564 non-null   int64  \n",
            " 1   kepoi_name         9564 non-null   object \n",
            " 2   koi_disposition    9564 non-null   object \n",
            " 3   koi_pdisposition   9564 non-null   object \n",
            " 4   koi_score          8054 non-null   float64\n",
            " 5   koi_fpflag_nt      9564 non-null   int64  \n",
            " 6   koi_fpflag_ss      9564 non-null   int64  \n",
            " 7   koi_fpflag_co      9564 non-null   int64  \n",
            " 8   koi_fpflag_ec      9564 non-null   int64  \n",
            " 9   koi_period         9564 non-null   float64\n",
            " 10  koi_period_err1    9110 non-null   float64\n",
            " 11  koi_period_err2    9110 non-null   float64\n",
            " 12  koi_time0bk        9564 non-null   float64\n",
            " 13  koi_time0bk_err1   9110 non-null   float64\n",
            " 14  koi_time0bk_err2   9110 non-null   float64\n",
            " 15  koi_impact         9201 non-null   float64\n",
            " 16  koi_impact_err1    9110 non-null   float64\n",
            " 17  koi_impact_err2    9110 non-null   float64\n",
            " 18  koi_duration       9564 non-null   float64\n",
            " 19  koi_duration_err1  9110 non-null   float64\n",
            " 20  koi_duration_err2  9110 non-null   float64\n",
            " 21  koi_depth          9201 non-null   float64\n",
            " 22  koi_depth_err1     9110 non-null   float64\n",
            " 23  koi_depth_err2     9110 non-null   float64\n",
            " 24  koi_prad           9201 non-null   float64\n",
            " 25  koi_prad_err1      9201 non-null   float64\n",
            " 26  koi_prad_err2      9201 non-null   float64\n",
            " 27  koi_teq            9201 non-null   float64\n",
            " 28  koi_insol          9243 non-null   float64\n",
            " 29  koi_insol_err1     9243 non-null   float64\n",
            " 30  koi_insol_err2     9243 non-null   float64\n",
            " 31  koi_model_snr      9201 non-null   float64\n",
            " 32  koi_tce_plnt_num   9218 non-null   float64\n",
            " 33  koi_tce_delivname  9218 non-null   object \n",
            " 34  koi_steff          9201 non-null   float64\n",
            " 35  koi_steff_err1     9096 non-null   float64\n",
            " 36  koi_steff_err2     9081 non-null   float64\n",
            " 37  koi_slogg          9201 non-null   float64\n",
            " 38  koi_slogg_err1     9096 non-null   float64\n",
            " 39  koi_slogg_err2     9096 non-null   float64\n",
            " 40  koi_srad           9201 non-null   float64\n",
            " 41  koi_srad_err1      9096 non-null   float64\n",
            " 42  koi_srad_err2      9096 non-null   float64\n",
            " 43  ra                 9564 non-null   float64\n",
            " 44  dec                9564 non-null   float64\n",
            " 45  koi_kepmag         9563 non-null   float64\n",
            "dtypes: float64(37), int64(5), object(4)\n",
            "memory usage: 3.4+ MB\n"
          ]
        }
      ]
    },
    {
      "cell_type": "code",
      "source": [
        "num_data2=data2.select_dtypes(exclude='object')\n",
        "cat_data2=data2.select_dtypes(include='object')"
      ],
      "metadata": {
        "id": "nDa0ad98fQOx"
      },
      "execution_count": null,
      "outputs": []
    },
    {
      "cell_type": "code",
      "source": [
        "for i in num_data2.columns:\n",
        "  if num_data2[i].isnull().sum()>0:\n",
        "    num_data2[i]=num_data2[i].fillna(num_data2[i].median())"
      ],
      "metadata": {
        "id": "M1s0fv9yeYJM"
      },
      "execution_count": null,
      "outputs": []
    },
    {
      "cell_type": "code",
      "source": [
        "num_data2.isnull().sum()"
      ],
      "metadata": {
        "colab": {
          "base_uri": "https://localhost:8080/"
        },
        "id": "hqYl_M4Sg8wv",
        "outputId": "ef10ce8a-789a-421a-8521-1579ae500cb4"
      },
      "execution_count": null,
      "outputs": [
        {
          "output_type": "execute_result",
          "data": {
            "text/plain": [
              "kepid                0\n",
              "koi_score            0\n",
              "koi_fpflag_nt        0\n",
              "koi_fpflag_ss        0\n",
              "koi_fpflag_co        0\n",
              "koi_fpflag_ec        0\n",
              "koi_period           0\n",
              "koi_period_err1      0\n",
              "koi_period_err2      0\n",
              "koi_time0bk          0\n",
              "koi_time0bk_err1     0\n",
              "koi_time0bk_err2     0\n",
              "koi_impact           0\n",
              "koi_impact_err1      0\n",
              "koi_impact_err2      0\n",
              "koi_duration         0\n",
              "koi_duration_err1    0\n",
              "koi_duration_err2    0\n",
              "koi_depth            0\n",
              "koi_depth_err1       0\n",
              "koi_depth_err2       0\n",
              "koi_prad             0\n",
              "koi_prad_err1        0\n",
              "koi_prad_err2        0\n",
              "koi_teq              0\n",
              "koi_insol            0\n",
              "koi_insol_err1       0\n",
              "koi_insol_err2       0\n",
              "koi_model_snr        0\n",
              "koi_tce_plnt_num     0\n",
              "koi_steff            0\n",
              "koi_steff_err1       0\n",
              "koi_steff_err2       0\n",
              "koi_slogg            0\n",
              "koi_slogg_err1       0\n",
              "koi_slogg_err2       0\n",
              "koi_srad             0\n",
              "koi_srad_err1        0\n",
              "koi_srad_err2        0\n",
              "ra                   0\n",
              "dec                  0\n",
              "koi_kepmag           0\n",
              "dtype: int64"
            ]
          },
          "metadata": {},
          "execution_count": 9
        }
      ]
    },
    {
      "cell_type": "code",
      "source": [
        "for i in cat_data2.columns:\n",
        "  if cat_data2[i].isnull().sum()>0:\n",
        "    cat_data2[i]=cat_data2[i].fillna(cat_data2[i].mode()) "
      ],
      "metadata": {
        "id": "oUbXF0fRhJWG"
      },
      "execution_count": null,
      "outputs": []
    },
    {
      "cell_type": "code",
      "source": [
        "cat_data2.isnull().sum()"
      ],
      "metadata": {
        "colab": {
          "base_uri": "https://localhost:8080/"
        },
        "id": "GuzMdNDwhgGE",
        "outputId": "058b3dd0-230e-47ec-d8a0-bd6185069cec"
      },
      "execution_count": null,
      "outputs": [
        {
          "output_type": "execute_result",
          "data": {
            "text/plain": [
              "kepoi_name             0\n",
              "koi_disposition        0\n",
              "koi_pdisposition       0\n",
              "koi_tce_delivname    346\n",
              "dtype: int64"
            ]
          },
          "metadata": {},
          "execution_count": 11
        }
      ]
    },
    {
      "cell_type": "code",
      "source": [
        "data2['koi_tce_delivname'].mode()"
      ],
      "metadata": {
        "colab": {
          "base_uri": "https://localhost:8080/"
        },
        "id": "RWqJI6MjhsZ6",
        "outputId": "51930859-be1a-4fb4-ed58-5e2ed9ab682f"
      },
      "execution_count": null,
      "outputs": [
        {
          "output_type": "execute_result",
          "data": {
            "text/plain": [
              "0    q1_q17_dr25_tce\n",
              "dtype: object"
            ]
          },
          "metadata": {},
          "execution_count": 12
        }
      ]
    },
    {
      "cell_type": "code",
      "source": [
        "#checking the unique values of the catecorical columns.\n",
        "cat_data2.nunique()"
      ],
      "metadata": {
        "colab": {
          "base_uri": "https://localhost:8080/"
        },
        "id": "_6-wCPBpjK3b",
        "outputId": "5c4372ed-b459-4f9e-c871-4bd9d41e07fe"
      },
      "execution_count": null,
      "outputs": [
        {
          "output_type": "execute_result",
          "data": {
            "text/plain": [
              "kepoi_name           9564\n",
              "koi_disposition         3\n",
              "koi_pdisposition        2\n",
              "koi_tce_delivname       3\n",
              "dtype: int64"
            ]
          },
          "metadata": {},
          "execution_count": 13
        }
      ]
    },
    {
      "cell_type": "code",
      "source": [
        "#dummy encoding for catecorical columns.\n",
        "dummies=pd.get_dummies(cat_data2.drop(['koi_disposition','kepoi_name'],axis=1), drop_first=True)\n",
        "dummies.head()"
      ],
      "metadata": {
        "colab": {
          "base_uri": "https://localhost:8080/",
          "height": 206
        },
        "id": "gtiMgbk0jyxa",
        "outputId": "d70caaea-9adf-451d-c737-92998b2a46eb"
      },
      "execution_count": null,
      "outputs": [
        {
          "output_type": "execute_result",
          "data": {
            "text/plain": [
              "   koi_pdisposition_FALSE POSITIVE  koi_tce_delivname_q1_q17_dr24_tce  \\\n",
              "0                                0                                  0   \n",
              "1                                0                                  0   \n",
              "2                                0                                  0   \n",
              "3                                1                                  0   \n",
              "4                                0                                  0   \n",
              "\n",
              "   koi_tce_delivname_q1_q17_dr25_tce  \n",
              "0                                  1  \n",
              "1                                  1  \n",
              "2                                  1  \n",
              "3                                  1  \n",
              "4                                  1  "
            ],
            "text/html": [
              "\n",
              "  <div id=\"df-2b749d0e-d9ff-4dd8-b799-cd7e99dd522f\">\n",
              "    <div class=\"colab-df-container\">\n",
              "      <div>\n",
              "<style scoped>\n",
              "    .dataframe tbody tr th:only-of-type {\n",
              "        vertical-align: middle;\n",
              "    }\n",
              "\n",
              "    .dataframe tbody tr th {\n",
              "        vertical-align: top;\n",
              "    }\n",
              "\n",
              "    .dataframe thead th {\n",
              "        text-align: right;\n",
              "    }\n",
              "</style>\n",
              "<table border=\"1\" class=\"dataframe\">\n",
              "  <thead>\n",
              "    <tr style=\"text-align: right;\">\n",
              "      <th></th>\n",
              "      <th>koi_pdisposition_FALSE POSITIVE</th>\n",
              "      <th>koi_tce_delivname_q1_q17_dr24_tce</th>\n",
              "      <th>koi_tce_delivname_q1_q17_dr25_tce</th>\n",
              "    </tr>\n",
              "  </thead>\n",
              "  <tbody>\n",
              "    <tr>\n",
              "      <th>0</th>\n",
              "      <td>0</td>\n",
              "      <td>0</td>\n",
              "      <td>1</td>\n",
              "    </tr>\n",
              "    <tr>\n",
              "      <th>1</th>\n",
              "      <td>0</td>\n",
              "      <td>0</td>\n",
              "      <td>1</td>\n",
              "    </tr>\n",
              "    <tr>\n",
              "      <th>2</th>\n",
              "      <td>0</td>\n",
              "      <td>0</td>\n",
              "      <td>1</td>\n",
              "    </tr>\n",
              "    <tr>\n",
              "      <th>3</th>\n",
              "      <td>1</td>\n",
              "      <td>0</td>\n",
              "      <td>1</td>\n",
              "    </tr>\n",
              "    <tr>\n",
              "      <th>4</th>\n",
              "      <td>0</td>\n",
              "      <td>0</td>\n",
              "      <td>1</td>\n",
              "    </tr>\n",
              "  </tbody>\n",
              "</table>\n",
              "</div>\n",
              "      <button class=\"colab-df-convert\" onclick=\"convertToInteractive('df-2b749d0e-d9ff-4dd8-b799-cd7e99dd522f')\"\n",
              "              title=\"Convert this dataframe to an interactive table.\"\n",
              "              style=\"display:none;\">\n",
              "        \n",
              "  <svg xmlns=\"http://www.w3.org/2000/svg\" height=\"24px\"viewBox=\"0 0 24 24\"\n",
              "       width=\"24px\">\n",
              "    <path d=\"M0 0h24v24H0V0z\" fill=\"none\"/>\n",
              "    <path d=\"M18.56 5.44l.94 2.06.94-2.06 2.06-.94-2.06-.94-.94-2.06-.94 2.06-2.06.94zm-11 1L8.5 8.5l.94-2.06 2.06-.94-2.06-.94L8.5 2.5l-.94 2.06-2.06.94zm10 10l.94 2.06.94-2.06 2.06-.94-2.06-.94-.94-2.06-.94 2.06-2.06.94z\"/><path d=\"M17.41 7.96l-1.37-1.37c-.4-.4-.92-.59-1.43-.59-.52 0-1.04.2-1.43.59L10.3 9.45l-7.72 7.72c-.78.78-.78 2.05 0 2.83L4 21.41c.39.39.9.59 1.41.59.51 0 1.02-.2 1.41-.59l7.78-7.78 2.81-2.81c.8-.78.8-2.07 0-2.86zM5.41 20L4 18.59l7.72-7.72 1.47 1.35L5.41 20z\"/>\n",
              "  </svg>\n",
              "      </button>\n",
              "      \n",
              "  <style>\n",
              "    .colab-df-container {\n",
              "      display:flex;\n",
              "      flex-wrap:wrap;\n",
              "      gap: 12px;\n",
              "    }\n",
              "\n",
              "    .colab-df-convert {\n",
              "      background-color: #E8F0FE;\n",
              "      border: none;\n",
              "      border-radius: 50%;\n",
              "      cursor: pointer;\n",
              "      display: none;\n",
              "      fill: #1967D2;\n",
              "      height: 32px;\n",
              "      padding: 0 0 0 0;\n",
              "      width: 32px;\n",
              "    }\n",
              "\n",
              "    .colab-df-convert:hover {\n",
              "      background-color: #E2EBFA;\n",
              "      box-shadow: 0px 1px 2px rgba(60, 64, 67, 0.3), 0px 1px 3px 1px rgba(60, 64, 67, 0.15);\n",
              "      fill: #174EA6;\n",
              "    }\n",
              "\n",
              "    [theme=dark] .colab-df-convert {\n",
              "      background-color: #3B4455;\n",
              "      fill: #D2E3FC;\n",
              "    }\n",
              "\n",
              "    [theme=dark] .colab-df-convert:hover {\n",
              "      background-color: #434B5C;\n",
              "      box-shadow: 0px 1px 3px 1px rgba(0, 0, 0, 0.15);\n",
              "      filter: drop-shadow(0px 1px 2px rgba(0, 0, 0, 0.3));\n",
              "      fill: #FFFFFF;\n",
              "    }\n",
              "  </style>\n",
              "\n",
              "      <script>\n",
              "        const buttonEl =\n",
              "          document.querySelector('#df-2b749d0e-d9ff-4dd8-b799-cd7e99dd522f button.colab-df-convert');\n",
              "        buttonEl.style.display =\n",
              "          google.colab.kernel.accessAllowed ? 'block' : 'none';\n",
              "\n",
              "        async function convertToInteractive(key) {\n",
              "          const element = document.querySelector('#df-2b749d0e-d9ff-4dd8-b799-cd7e99dd522f');\n",
              "          const dataTable =\n",
              "            await google.colab.kernel.invokeFunction('convertToInteractive',\n",
              "                                                     [key], {});\n",
              "          if (!dataTable) return;\n",
              "\n",
              "          const docLinkHtml = 'Like what you see? Visit the ' +\n",
              "            '<a target=\"_blank\" href=https://colab.research.google.com/notebooks/data_table.ipynb>data table notebook</a>'\n",
              "            + ' to learn more about interactive tables.';\n",
              "          element.innerHTML = '';\n",
              "          dataTable['output_type'] = 'display_data';\n",
              "          await google.colab.output.renderOutput(dataTable, element);\n",
              "          const docLink = document.createElement('div');\n",
              "          docLink.innerHTML = docLinkHtml;\n",
              "          element.appendChild(docLink);\n",
              "        }\n",
              "      </script>\n",
              "    </div>\n",
              "  </div>\n",
              "  "
            ]
          },
          "metadata": {},
          "execution_count": 14
        }
      ]
    },
    {
      "cell_type": "code",
      "source": [
        "dataFinal=pd.concat([num_data2, dummies], axis=1).reset_index(drop=True)"
      ],
      "metadata": {
        "id": "HutzI02eiPbr"
      },
      "execution_count": null,
      "outputs": []
    },
    {
      "cell_type": "markdown",
      "source": [
        "##Spliting into train and test."
      ],
      "metadata": {
        "id": "Nm5FSlSH41TB"
      }
    },
    {
      "cell_type": "code",
      "source": [
        "Y = data2['koi_disposition']\n",
        "X = dataFinal.copy()"
      ],
      "metadata": {
        "id": "EGA2ouUdQySO"
      },
      "execution_count": null,
      "outputs": []
    },
    {
      "cell_type": "code",
      "source": [
        "from sklearn.model_selection import train_test_split\n",
        "Xtrain,Xtest,Ytrain, Ytest = train_test_split(X,Y, test_size=0.3, random_state = 0)\n",
        "print(Xtrain.shape)\n",
        "print(Xtest.shape)\n",
        "print(Ytrain.shape)\n",
        "print(Ytest.shape)"
      ],
      "metadata": {
        "colab": {
          "base_uri": "https://localhost:8080/"
        },
        "id": "JyBFSVTgQyWu",
        "outputId": "650e0687-7746-4cb6-be6a-47ac73439cae"
      },
      "execution_count": null,
      "outputs": [
        {
          "output_type": "stream",
          "name": "stdout",
          "text": [
            "(6694, 45)\n",
            "(2870, 45)\n",
            "(6694,)\n",
            "(2870,)\n"
          ]
        }
      ]
    },
    {
      "cell_type": "markdown",
      "source": [
        "##Feature Selection"
      ],
      "metadata": {
        "id": "Lo69GRSa96i_"
      }
    },
    {
      "cell_type": "code",
      "source": [
        "from sklearn.ensemble import RandomForestClassifier\n",
        "from sklearn.feature_selection import SelectFromModel\n",
        "rfc = RandomForestClassifier(random_state = 0, n_estimators = 100)\n",
        "rfc.fit(Xtrain, Ytrain)\n",
        "imp_feat = list(zip(X.columns, rfc.feature_importances_))\n",
        "imp_feat"
      ],
      "metadata": {
        "colab": {
          "base_uri": "https://localhost:8080/"
        },
        "id": "AlC8hsLXQyYj",
        "outputId": "7c52ea30-1602-40e4-e7e2-3a6f4c780204"
      },
      "execution_count": null,
      "outputs": [
        {
          "output_type": "execute_result",
          "data": {
            "text/plain": [
              "[('kepid', 0.006958944776568857),\n",
              " ('koi_score', 0.13943117331141194),\n",
              " ('koi_fpflag_nt', 0.04770957634111057),\n",
              " ('koi_fpflag_ss', 0.04625966740683037),\n",
              " ('koi_fpflag_co', 0.04146704059557305),\n",
              " ('koi_fpflag_ec', 0.010897865427776035),\n",
              " ('koi_period', 0.015249926666323925),\n",
              " ('koi_period_err1', 0.012585791690652519),\n",
              " ('koi_period_err2', 0.010952632315680678),\n",
              " ('koi_time0bk', 0.008416751813139492),\n",
              " ('koi_time0bk_err1', 0.017283559999291376),\n",
              " ('koi_time0bk_err2', 0.014911172029220805),\n",
              " ('koi_impact', 0.009325284630249984),\n",
              " ('koi_impact_err1', 0.006825255859080945),\n",
              " ('koi_impact_err2', 0.006452833310366147),\n",
              " ('koi_duration', 0.016502864353415518),\n",
              " ('koi_duration_err1', 0.02318270927025351),\n",
              " ('koi_duration_err2', 0.026828728543039672),\n",
              " ('koi_depth', 0.011400930715694094),\n",
              " ('koi_depth_err1', 0.010607502011117695),\n",
              " ('koi_depth_err2', 0.011134969380491362),\n",
              " ('koi_prad', 0.030525855966966428),\n",
              " ('koi_prad_err1', 0.017016938616678006),\n",
              " ('koi_prad_err2', 0.009937845354763728),\n",
              " ('koi_teq', 0.007592702905292129),\n",
              " ('koi_insol', 0.009965998365340317),\n",
              " ('koi_insol_err1', 0.011416949775652456),\n",
              " ('koi_insol_err2', 0.008443134932879863),\n",
              " ('koi_model_snr', 0.048444568873146646),\n",
              " ('koi_tce_plnt_num', 0.0019023008964657044),\n",
              " ('koi_steff', 0.006309198155135461),\n",
              " ('koi_steff_err1', 0.022775040813774967),\n",
              " ('koi_steff_err2', 0.017255196481210756),\n",
              " ('koi_slogg', 0.0056093824928682),\n",
              " ('koi_slogg_err1', 0.006009672232081033),\n",
              " ('koi_slogg_err2', 0.01063925729100536),\n",
              " ('koi_srad', 0.006221383380359186),\n",
              " ('koi_srad_err1', 0.011012109576545392),\n",
              " ('koi_srad_err2', 0.005968097280756864),\n",
              " ('ra', 0.007775728529489715),\n",
              " ('dec', 0.00717853426004404),\n",
              " ('koi_kepmag', 0.007809208676935355),\n",
              " ('koi_pdisposition_FALSE POSITIVE', 0.23792786303854996),\n",
              " ('koi_tce_delivname_q1_q17_dr24_tce', 0.0003333385511869028),\n",
              " ('koi_tce_delivname_q1_q17_dr25_tce', 0.0075445131055831135)]"
            ]
          },
          "metadata": {},
          "execution_count": 18
        }
      ]
    },
    {
      "cell_type": "code",
      "source": [
        "sel = SelectFromModel(RandomForestClassifier(random_state = 0, n_estimators = 100), threshold = 0.01)\n",
        "sel.fit(Xtrain, Ytrain)"
      ],
      "metadata": {
        "colab": {
          "base_uri": "https://localhost:8080/"
        },
        "id": "i5OqYPkFQydS",
        "outputId": "b2bf56b4-9728-404d-b38d-46502e86ba28"
      },
      "execution_count": null,
      "outputs": [
        {
          "output_type": "execute_result",
          "data": {
            "text/plain": [
              "SelectFromModel(estimator=RandomForestClassifier(random_state=0),\n",
              "                threshold=0.01)"
            ]
          },
          "metadata": {},
          "execution_count": 19
        }
      ]
    },
    {
      "cell_type": "code",
      "source": [
        "selected_feat= Xtrain.columns[(sel.get_support())]\n",
        "print(len(selected_feat))"
      ],
      "metadata": {
        "colab": {
          "base_uri": "https://localhost:8080/"
        },
        "id": "WAx7wFp4QygM",
        "outputId": "7cfa7bc3-021b-4f3c-bc55-a4d778c6a9d9"
      },
      "execution_count": null,
      "outputs": [
        {
          "output_type": "stream",
          "name": "stdout",
          "text": [
            "25\n"
          ]
        }
      ]
    },
    {
      "cell_type": "code",
      "source": [
        "print(\"Selected Features:\\n\", list(selected_feat))"
      ],
      "metadata": {
        "colab": {
          "base_uri": "https://localhost:8080/"
        },
        "id": "M7B-GoQGVXIe",
        "outputId": "0951e038-9539-406d-f530-576acdc8cc7e"
      },
      "execution_count": null,
      "outputs": [
        {
          "output_type": "stream",
          "name": "stdout",
          "text": [
            "Selected Features:\n",
            " ['koi_score', 'koi_fpflag_nt', 'koi_fpflag_ss', 'koi_fpflag_co', 'koi_fpflag_ec', 'koi_period', 'koi_period_err1', 'koi_period_err2', 'koi_time0bk_err1', 'koi_time0bk_err2', 'koi_duration', 'koi_duration_err1', 'koi_duration_err2', 'koi_depth', 'koi_depth_err1', 'koi_depth_err2', 'koi_prad', 'koi_prad_err1', 'koi_insol_err1', 'koi_model_snr', 'koi_steff_err1', 'koi_steff_err2', 'koi_slogg_err2', 'koi_srad_err1', 'koi_pdisposition_FALSE POSITIVE']\n"
          ]
        }
      ]
    },
    {
      "cell_type": "code",
      "source": [
        "Xnew = X[list(selected_feat)]\n",
        "print(Xnew.shape)"
      ],
      "metadata": {
        "colab": {
          "base_uri": "https://localhost:8080/"
        },
        "id": "ElA5pWbyVXK1",
        "outputId": "d48d737d-88af-457d-9d72-a22b0a1287e5"
      },
      "execution_count": null,
      "outputs": [
        {
          "output_type": "stream",
          "name": "stdout",
          "text": [
            "(9564, 25)\n"
          ]
        }
      ]
    },
    {
      "cell_type": "code",
      "source": [
        "Xtrain1,Xtest1,Ytrain1, Ytest1 = train_test_split(Xnew,Y, test_size=0.3, random_state = 0)\n",
        "print(Xtrain1.shape)\n",
        "print(Xtest1.shape)\n",
        "print(Ytrain1.shape)\n",
        "print(Ytest1.shape)"
      ],
      "metadata": {
        "colab": {
          "base_uri": "https://localhost:8080/"
        },
        "id": "bPQSH5bQVXPk",
        "outputId": "17f27a12-d79f-47d2-bcac-92384e28519f"
      },
      "execution_count": null,
      "outputs": [
        {
          "output_type": "stream",
          "name": "stdout",
          "text": [
            "(6694, 25)\n",
            "(2870, 25)\n",
            "(6694,)\n",
            "(2870,)\n"
          ]
        }
      ]
    },
    {
      "cell_type": "markdown",
      "source": [
        "##Model Training"
      ],
      "metadata": {
        "id": "BFzomojy-AHi"
      }
    },
    {
      "cell_type": "markdown",
      "source": [
        "Random Forest"
      ],
      "metadata": {
        "id": "WYgWoD2uWNrL"
      }
    },
    {
      "cell_type": "code",
      "source": [
        "from sklearn.ensemble import RandomForestClassifier\n",
        "rfc = RandomForestClassifier(random_state = 0, n_estimators = 500, max_leaf_nodes = 6)\n",
        "rfc.fit(Xtrain, Ytrain)"
      ],
      "metadata": {
        "colab": {
          "base_uri": "https://localhost:8080/"
        },
        "id": "iJu-nFkaVXSI",
        "outputId": "7c5d9feb-a608-4d9c-f027-d64c92a3f143"
      },
      "execution_count": null,
      "outputs": [
        {
          "output_type": "execute_result",
          "data": {
            "text/plain": [
              "RandomForestClassifier(max_leaf_nodes=6, n_estimators=500, random_state=0)"
            ]
          },
          "metadata": {},
          "execution_count": 24
        }
      ]
    },
    {
      "cell_type": "code",
      "source": [
        "Ypred = rfc.predict(Xtest)\n",
        "from sklearn.metrics import classification_report\n",
        "cr1 = classification_report(Ytest, Ypred, digits = 4)\n",
        "print(cr1)"
      ],
      "metadata": {
        "colab": {
          "base_uri": "https://localhost:8080/"
        },
        "id": "LU8kIzhqVXWW",
        "outputId": "f8cf26a0-f5bc-45dd-e308-9b4fcb20cbfc"
      },
      "execution_count": null,
      "outputs": [
        {
          "output_type": "stream",
          "name": "stdout",
          "text": [
            "                precision    recall  f1-score   support\n",
            "\n",
            "     CANDIDATE     0.8248    0.7493    0.7852       710\n",
            "     CONFIRMED     0.7802    0.8291    0.8039       702\n",
            "FALSE POSITIVE     0.9858    1.0000    0.9928      1458\n",
            "\n",
            "      accuracy                         0.8962      2870\n",
            "     macro avg     0.8636    0.8595    0.8607      2870\n",
            "  weighted avg     0.8957    0.8962    0.8953      2870\n",
            "\n"
          ]
        }
      ]
    },
    {
      "cell_type": "markdown",
      "source": [
        "Ada Boost"
      ],
      "metadata": {
        "id": "TnbCdG-nWhxE"
      }
    },
    {
      "cell_type": "code",
      "source": [
        "from sklearn.ensemble import AdaBoostClassifier\n",
        "abc=AdaBoostClassifier(random_state = 0, n_estimators = 500, learning_rate=0.001)\n",
        "abc.fit(Xtrain,Ytrain)"
      ],
      "metadata": {
        "colab": {
          "base_uri": "https://localhost:8080/"
        },
        "id": "B0y0HtkqVXcX",
        "outputId": "82b919ea-a61b-499a-d01b-4c131b63d2fa"
      },
      "execution_count": null,
      "outputs": [
        {
          "output_type": "execute_result",
          "data": {
            "text/plain": [
              "AdaBoostClassifier(learning_rate=0.001, n_estimators=500, random_state=0)"
            ]
          },
          "metadata": {},
          "execution_count": 26
        }
      ]
    },
    {
      "cell_type": "code",
      "source": [
        "Ypred = abc.predict(Xtest)\n",
        "from sklearn.metrics import classification_report\n",
        "cr2 = classification_report(Ytest, Ypred, digits = 4)\n",
        "print(cr2)"
      ],
      "metadata": {
        "colab": {
          "base_uri": "https://localhost:8080/"
        },
        "id": "oD2w_mrcWzOa",
        "outputId": "f95b925e-be72-4d2a-d244-0fedfbefa173"
      },
      "execution_count": null,
      "outputs": [
        {
          "output_type": "stream",
          "name": "stdout",
          "text": [
            "                precision    recall  f1-score   support\n",
            "\n",
            "     CANDIDATE     0.8773    0.6141    0.7225       710\n",
            "     CONFIRMED     0.6989    0.9060    0.7891       702\n",
            "FALSE POSITIVE     0.9966    1.0000    0.9983      1458\n",
            "\n",
            "      accuracy                         0.8815      2870\n",
            "     macro avg     0.8576    0.8400    0.8366      2870\n",
            "  weighted avg     0.8943    0.8815    0.8789      2870\n",
            "\n"
          ]
        }
      ]
    },
    {
      "cell_type": "markdown",
      "source": [
        "XGBoost"
      ],
      "metadata": {
        "id": "UEqV7hm0ovtt"
      }
    },
    {
      "cell_type": "code",
      "source": [
        "from xgboost import XGBClassifier\n",
        "xgbc = XGBClassifier(random_state = 0, n_estimators = 600, max_leaf_nodes = 5)\n",
        "xgbc.fit(Xtrain,Ytrain)"
      ],
      "metadata": {
        "colab": {
          "base_uri": "https://localhost:8080/"
        },
        "id": "4MKxtqYFnhtL",
        "outputId": "83481589-bd9b-48be-b36a-2e285a54e736"
      },
      "execution_count": null,
      "outputs": [
        {
          "output_type": "execute_result",
          "data": {
            "text/plain": [
              "XGBClassifier(max_leaf_nodes=5, n_estimators=600, objective='multi:softprob')"
            ]
          },
          "metadata": {},
          "execution_count": 28
        }
      ]
    },
    {
      "cell_type": "code",
      "source": [
        "Ypred = xgbc.predict(Xtest)\n",
        "from sklearn.metrics import classification_report\n",
        "cr3 = classification_report(Ytest, Ypred, digits = 4)\n",
        "print(cr3)"
      ],
      "metadata": {
        "colab": {
          "base_uri": "https://localhost:8080/"
        },
        "id": "Wi8WLbNUo6Om",
        "outputId": "6156be8f-4bf9-43bb-bce7-2962a22dfe46"
      },
      "execution_count": null,
      "outputs": [
        {
          "output_type": "stream",
          "name": "stdout",
          "text": [
            "                precision    recall  f1-score   support\n",
            "\n",
            "     CANDIDATE     0.8507    0.8183    0.8342       710\n",
            "     CONFIRMED     0.8218    0.8476    0.8345       702\n",
            "FALSE POSITIVE     0.9966    1.0000    0.9983      1458\n",
            "\n",
            "      accuracy                         0.9178      2870\n",
            "     macro avg     0.8897    0.8886    0.8890      2870\n",
            "  weighted avg     0.9177    0.9178    0.9176      2870\n",
            "\n"
          ]
        }
      ]
    },
    {
      "cell_type": "markdown",
      "source": [
        "##Sub-questions for Problem 2"
      ],
      "metadata": {
        "id": "GknEQDBYDwkl"
      }
    },
    {
      "cell_type": "markdown",
      "source": [
        "\n",
        "1. Why did you choose the particular algorithm?\n",
        "\n",
        "  Ans: I have tried various bagging, boosting machine learning algorithms.Random Forest classifier gave me 89%, AdaBoost gave 88% accuracy and I achieved 92% accuracy using XGBoost which is the highest accuracy so, XGBoost is the best model,This is a boosting algorithm which reduces the overfitting.\n",
        "\n",
        "2. What are the different tuning methods used for the algorithm?\n",
        "\n",
        "  Ans: I improved my model performance by increasing the number of trees and also tried with different values of max_leaf_nodes.\n",
        "\n",
        "3. Did you consider any other choice of algorithm?Why or why not?\n",
        "\n",
        "  Ans: I have tried various other Bagging and boosting machine learning classifiers such as:\n",
        "\n",
        "     -Random Forest\n",
        "     Random subsamples of data are selected for Random Forest where the growing happens in parallel and overfitting is reduced with the combination of several underfitting features in the algorithm.\n",
        "\n",
        "     -Ada Boost\n",
        "      One of the many advantages of the AdaBoost Algorithm is it is fast, simple and easy to program. Also, it has the flexibility to be combined with any machine learning algorithm\n",
        "     \n",
        "     -XGBoost\n",
        "     Overfitting is reduced with the help of regularization parameters in XGBoost that helps to select features based on weak and strong features in the decision tree. Optimal values of each leaf are calculated and hence the overall gradient of the tree is given as the output.\n",
        "\n",
        "4. What is the accuracy?\n",
        "\n",
        "   Ans: I have achieved 92% accuracy using XGBoost Model.\n",
        "\n",
        "5. What are the different types of metrics that can be used to evaluate the model?\n",
        "   \n",
        "   Ans: The different types of metrics that can be used to evaluate the models are:\n",
        "\n",
        "  Accuracy: Accuracy is the number of correctly predicted data points out of all the data points.\n",
        "\n",
        "  Precision: Precision refers to the number of true positives divided by the total number of positive predictions (i.e., the number of true positives plus the number of false positives).\n",
        "\n",
        "  Recall: Mathematically, we define recall as the number of true positives divided by the number of true positives plus the number of false negatives.\n",
        "\n",
        "  F1-score: F1 score is defined as the harmonic mean between precision and recall. F1 score is used when dealing with imbalanced data as accuracy is not the preferred metric in these cases."
      ],
      "metadata": {
        "id": "WVFQu46BDdKR"
      }
    },
    {
      "cell_type": "markdown",
      "source": [
        "**Thank You!**\n"
      ],
      "metadata": {
        "id": "OElO_eEGNkDt"
      }
    }
  ]
}